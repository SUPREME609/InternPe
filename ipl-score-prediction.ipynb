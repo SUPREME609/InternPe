{
 "cells": [
  {
   "cell_type": "code",
   "execution_count": 1,
   "id": "09c96e97",
   "metadata": {
    "_cell_guid": "b1076dfc-b9ad-4769-8c92-a6c4dae69d19",
    "_uuid": "8f2839f25d086af736a60e9eeb907d3b93b6e0e5",
    "execution": {
     "iopub.execute_input": "2025-03-07T15:26:18.137657Z",
     "iopub.status.busy": "2025-03-07T15:26:18.137218Z",
     "iopub.status.idle": "2025-03-07T15:26:19.260333Z",
     "shell.execute_reply": "2025-03-07T15:26:19.258970Z"
    },
    "papermill": {
     "duration": 1.138068,
     "end_time": "2025-03-07T15:26:19.262313",
     "exception": false,
     "start_time": "2025-03-07T15:26:18.124245",
     "status": "completed"
    },
    "tags": []
   },
   "outputs": [
    {
     "data": {
      "text/plain": [
       "'1.26.4'"
      ]
     },
     "execution_count": 1,
     "metadata": {},
     "output_type": "execute_result"
    }
   ],
   "source": [
    "import pandas as pd\n",
    "import numpy as np\n",
    "np.__version__"
   ]
  },
  {
   "cell_type": "code",
   "execution_count": 2,
   "id": "8938db2f",
   "metadata": {
    "execution": {
     "iopub.execute_input": "2025-03-07T15:26:19.286998Z",
     "iopub.status.busy": "2025-03-07T15:26:19.286435Z",
     "iopub.status.idle": "2025-03-07T15:26:19.595018Z",
     "shell.execute_reply": "2025-03-07T15:26:19.593749Z"
    },
    "papermill": {
     "duration": 0.322832,
     "end_time": "2025-03-07T15:26:19.597345",
     "exception": false,
     "start_time": "2025-03-07T15:26:19.274513",
     "status": "completed"
    },
    "tags": []
   },
   "outputs": [],
   "source": [
    "data=pd.read_csv('/kaggle/input/ipl-csv/ipl_colab.csv')"
   ]
  },
  {
   "cell_type": "code",
   "execution_count": 3,
   "id": "6a8e22ed",
   "metadata": {
    "execution": {
     "iopub.execute_input": "2025-03-07T15:26:19.621404Z",
     "iopub.status.busy": "2025-03-07T15:26:19.621057Z",
     "iopub.status.idle": "2025-03-07T15:26:19.650992Z",
     "shell.execute_reply": "2025-03-07T15:26:19.649677Z"
    },
    "papermill": {
     "duration": 0.044111,
     "end_time": "2025-03-07T15:26:19.652742",
     "exception": false,
     "start_time": "2025-03-07T15:26:19.608631",
     "status": "completed"
    },
    "tags": []
   },
   "outputs": [
    {
     "data": {
      "text/html": [
       "<div>\n",
       "<style scoped>\n",
       "    .dataframe tbody tr th:only-of-type {\n",
       "        vertical-align: middle;\n",
       "    }\n",
       "\n",
       "    .dataframe tbody tr th {\n",
       "        vertical-align: top;\n",
       "    }\n",
       "\n",
       "    .dataframe thead th {\n",
       "        text-align: right;\n",
       "    }\n",
       "</style>\n",
       "<table border=\"1\" class=\"dataframe\">\n",
       "  <thead>\n",
       "    <tr style=\"text-align: right;\">\n",
       "      <th></th>\n",
       "      <th>mid</th>\n",
       "      <th>date</th>\n",
       "      <th>venue</th>\n",
       "      <th>batting_team</th>\n",
       "      <th>bowling_team</th>\n",
       "      <th>batsman</th>\n",
       "      <th>bowler</th>\n",
       "      <th>runs</th>\n",
       "      <th>wickets</th>\n",
       "      <th>overs</th>\n",
       "      <th>runs_last_5</th>\n",
       "      <th>wickets_last_5</th>\n",
       "      <th>striker</th>\n",
       "      <th>non-striker</th>\n",
       "      <th>total</th>\n",
       "    </tr>\n",
       "  </thead>\n",
       "  <tbody>\n",
       "    <tr>\n",
       "      <th>0</th>\n",
       "      <td>1</td>\n",
       "      <td>2008-04-18</td>\n",
       "      <td>M Chinnaswamy Stadium</td>\n",
       "      <td>Kolkata Knight Riders</td>\n",
       "      <td>Royal Challengers Bangalore</td>\n",
       "      <td>SC Ganguly</td>\n",
       "      <td>P Kumar</td>\n",
       "      <td>1</td>\n",
       "      <td>0</td>\n",
       "      <td>0.1</td>\n",
       "      <td>1</td>\n",
       "      <td>0</td>\n",
       "      <td>0</td>\n",
       "      <td>0</td>\n",
       "      <td>222</td>\n",
       "    </tr>\n",
       "    <tr>\n",
       "      <th>1</th>\n",
       "      <td>1</td>\n",
       "      <td>2008-04-18</td>\n",
       "      <td>M Chinnaswamy Stadium</td>\n",
       "      <td>Kolkata Knight Riders</td>\n",
       "      <td>Royal Challengers Bangalore</td>\n",
       "      <td>BB McCullum</td>\n",
       "      <td>P Kumar</td>\n",
       "      <td>1</td>\n",
       "      <td>0</td>\n",
       "      <td>0.2</td>\n",
       "      <td>1</td>\n",
       "      <td>0</td>\n",
       "      <td>0</td>\n",
       "      <td>0</td>\n",
       "      <td>222</td>\n",
       "    </tr>\n",
       "    <tr>\n",
       "      <th>2</th>\n",
       "      <td>1</td>\n",
       "      <td>2008-04-18</td>\n",
       "      <td>M Chinnaswamy Stadium</td>\n",
       "      <td>Kolkata Knight Riders</td>\n",
       "      <td>Royal Challengers Bangalore</td>\n",
       "      <td>BB McCullum</td>\n",
       "      <td>P Kumar</td>\n",
       "      <td>2</td>\n",
       "      <td>0</td>\n",
       "      <td>0.2</td>\n",
       "      <td>2</td>\n",
       "      <td>0</td>\n",
       "      <td>0</td>\n",
       "      <td>0</td>\n",
       "      <td>222</td>\n",
       "    </tr>\n",
       "    <tr>\n",
       "      <th>3</th>\n",
       "      <td>1</td>\n",
       "      <td>2008-04-18</td>\n",
       "      <td>M Chinnaswamy Stadium</td>\n",
       "      <td>Kolkata Knight Riders</td>\n",
       "      <td>Royal Challengers Bangalore</td>\n",
       "      <td>BB McCullum</td>\n",
       "      <td>P Kumar</td>\n",
       "      <td>2</td>\n",
       "      <td>0</td>\n",
       "      <td>0.3</td>\n",
       "      <td>2</td>\n",
       "      <td>0</td>\n",
       "      <td>0</td>\n",
       "      <td>0</td>\n",
       "      <td>222</td>\n",
       "    </tr>\n",
       "    <tr>\n",
       "      <th>4</th>\n",
       "      <td>1</td>\n",
       "      <td>2008-04-18</td>\n",
       "      <td>M Chinnaswamy Stadium</td>\n",
       "      <td>Kolkata Knight Riders</td>\n",
       "      <td>Royal Challengers Bangalore</td>\n",
       "      <td>BB McCullum</td>\n",
       "      <td>P Kumar</td>\n",
       "      <td>2</td>\n",
       "      <td>0</td>\n",
       "      <td>0.4</td>\n",
       "      <td>2</td>\n",
       "      <td>0</td>\n",
       "      <td>0</td>\n",
       "      <td>0</td>\n",
       "      <td>222</td>\n",
       "    </tr>\n",
       "  </tbody>\n",
       "</table>\n",
       "</div>"
      ],
      "text/plain": [
       "   mid        date                  venue           batting_team  \\\n",
       "0    1  2008-04-18  M Chinnaswamy Stadium  Kolkata Knight Riders   \n",
       "1    1  2008-04-18  M Chinnaswamy Stadium  Kolkata Knight Riders   \n",
       "2    1  2008-04-18  M Chinnaswamy Stadium  Kolkata Knight Riders   \n",
       "3    1  2008-04-18  M Chinnaswamy Stadium  Kolkata Knight Riders   \n",
       "4    1  2008-04-18  M Chinnaswamy Stadium  Kolkata Knight Riders   \n",
       "\n",
       "                  bowling_team      batsman   bowler  runs  wickets  overs  \\\n",
       "0  Royal Challengers Bangalore   SC Ganguly  P Kumar     1        0    0.1   \n",
       "1  Royal Challengers Bangalore  BB McCullum  P Kumar     1        0    0.2   \n",
       "2  Royal Challengers Bangalore  BB McCullum  P Kumar     2        0    0.2   \n",
       "3  Royal Challengers Bangalore  BB McCullum  P Kumar     2        0    0.3   \n",
       "4  Royal Challengers Bangalore  BB McCullum  P Kumar     2        0    0.4   \n",
       "\n",
       "   runs_last_5  wickets_last_5  striker  non-striker  total  \n",
       "0            1               0        0            0    222  \n",
       "1            1               0        0            0    222  \n",
       "2            2               0        0            0    222  \n",
       "3            2               0        0            0    222  \n",
       "4            2               0        0            0    222  "
      ]
     },
     "execution_count": 3,
     "metadata": {},
     "output_type": "execute_result"
    }
   ],
   "source": [
    "data.head()"
   ]
  },
  {
   "cell_type": "code",
   "execution_count": 4,
   "id": "892a68e6",
   "metadata": {
    "execution": {
     "iopub.execute_input": "2025-03-07T15:26:19.677181Z",
     "iopub.status.busy": "2025-03-07T15:26:19.676788Z",
     "iopub.status.idle": "2025-03-07T15:26:19.731265Z",
     "shell.execute_reply": "2025-03-07T15:26:19.729908Z"
    },
    "papermill": {
     "duration": 0.06848,
     "end_time": "2025-03-07T15:26:19.733163",
     "exception": false,
     "start_time": "2025-03-07T15:26:19.664683",
     "status": "completed"
    },
    "tags": []
   },
   "outputs": [
    {
     "data": {
      "text/html": [
       "<div>\n",
       "<style scoped>\n",
       "    .dataframe tbody tr th:only-of-type {\n",
       "        vertical-align: middle;\n",
       "    }\n",
       "\n",
       "    .dataframe tbody tr th {\n",
       "        vertical-align: top;\n",
       "    }\n",
       "\n",
       "    .dataframe thead th {\n",
       "        text-align: right;\n",
       "    }\n",
       "</style>\n",
       "<table border=\"1\" class=\"dataframe\">\n",
       "  <thead>\n",
       "    <tr style=\"text-align: right;\">\n",
       "      <th></th>\n",
       "      <th>mid</th>\n",
       "      <th>runs</th>\n",
       "      <th>wickets</th>\n",
       "      <th>overs</th>\n",
       "      <th>runs_last_5</th>\n",
       "      <th>wickets_last_5</th>\n",
       "      <th>striker</th>\n",
       "      <th>non-striker</th>\n",
       "      <th>total</th>\n",
       "    </tr>\n",
       "  </thead>\n",
       "  <tbody>\n",
       "    <tr>\n",
       "      <th>count</th>\n",
       "      <td>76014.000000</td>\n",
       "      <td>76014.000000</td>\n",
       "      <td>76014.000000</td>\n",
       "      <td>76014.000000</td>\n",
       "      <td>76014.000000</td>\n",
       "      <td>76014.000000</td>\n",
       "      <td>76014.000000</td>\n",
       "      <td>76014.000000</td>\n",
       "      <td>76014.000000</td>\n",
       "    </tr>\n",
       "    <tr>\n",
       "      <th>mean</th>\n",
       "      <td>308.627740</td>\n",
       "      <td>74.889349</td>\n",
       "      <td>2.415844</td>\n",
       "      <td>9.783068</td>\n",
       "      <td>33.216434</td>\n",
       "      <td>1.120307</td>\n",
       "      <td>24.962283</td>\n",
       "      <td>8.869287</td>\n",
       "      <td>160.901452</td>\n",
       "    </tr>\n",
       "    <tr>\n",
       "      <th>std</th>\n",
       "      <td>178.156878</td>\n",
       "      <td>48.823327</td>\n",
       "      <td>2.015207</td>\n",
       "      <td>5.772587</td>\n",
       "      <td>14.914174</td>\n",
       "      <td>1.053343</td>\n",
       "      <td>20.079752</td>\n",
       "      <td>10.795742</td>\n",
       "      <td>29.246231</td>\n",
       "    </tr>\n",
       "    <tr>\n",
       "      <th>min</th>\n",
       "      <td>1.000000</td>\n",
       "      <td>0.000000</td>\n",
       "      <td>0.000000</td>\n",
       "      <td>0.000000</td>\n",
       "      <td>0.000000</td>\n",
       "      <td>0.000000</td>\n",
       "      <td>0.000000</td>\n",
       "      <td>0.000000</td>\n",
       "      <td>67.000000</td>\n",
       "    </tr>\n",
       "    <tr>\n",
       "      <th>25%</th>\n",
       "      <td>154.000000</td>\n",
       "      <td>34.000000</td>\n",
       "      <td>1.000000</td>\n",
       "      <td>4.600000</td>\n",
       "      <td>24.000000</td>\n",
       "      <td>0.000000</td>\n",
       "      <td>10.000000</td>\n",
       "      <td>1.000000</td>\n",
       "      <td>142.000000</td>\n",
       "    </tr>\n",
       "    <tr>\n",
       "      <th>50%</th>\n",
       "      <td>308.000000</td>\n",
       "      <td>70.000000</td>\n",
       "      <td>2.000000</td>\n",
       "      <td>9.600000</td>\n",
       "      <td>34.000000</td>\n",
       "      <td>1.000000</td>\n",
       "      <td>20.000000</td>\n",
       "      <td>5.000000</td>\n",
       "      <td>162.000000</td>\n",
       "    </tr>\n",
       "    <tr>\n",
       "      <th>75%</th>\n",
       "      <td>463.000000</td>\n",
       "      <td>111.000000</td>\n",
       "      <td>4.000000</td>\n",
       "      <td>14.600000</td>\n",
       "      <td>43.000000</td>\n",
       "      <td>2.000000</td>\n",
       "      <td>35.000000</td>\n",
       "      <td>13.000000</td>\n",
       "      <td>181.000000</td>\n",
       "    </tr>\n",
       "    <tr>\n",
       "      <th>max</th>\n",
       "      <td>617.000000</td>\n",
       "      <td>263.000000</td>\n",
       "      <td>10.000000</td>\n",
       "      <td>19.600000</td>\n",
       "      <td>113.000000</td>\n",
       "      <td>7.000000</td>\n",
       "      <td>175.000000</td>\n",
       "      <td>109.000000</td>\n",
       "      <td>263.000000</td>\n",
       "    </tr>\n",
       "  </tbody>\n",
       "</table>\n",
       "</div>"
      ],
      "text/plain": [
       "                mid          runs       wickets         overs   runs_last_5  \\\n",
       "count  76014.000000  76014.000000  76014.000000  76014.000000  76014.000000   \n",
       "mean     308.627740     74.889349      2.415844      9.783068     33.216434   \n",
       "std      178.156878     48.823327      2.015207      5.772587     14.914174   \n",
       "min        1.000000      0.000000      0.000000      0.000000      0.000000   \n",
       "25%      154.000000     34.000000      1.000000      4.600000     24.000000   \n",
       "50%      308.000000     70.000000      2.000000      9.600000     34.000000   \n",
       "75%      463.000000    111.000000      4.000000     14.600000     43.000000   \n",
       "max      617.000000    263.000000     10.000000     19.600000    113.000000   \n",
       "\n",
       "       wickets_last_5       striker   non-striker         total  \n",
       "count    76014.000000  76014.000000  76014.000000  76014.000000  \n",
       "mean         1.120307     24.962283      8.869287    160.901452  \n",
       "std          1.053343     20.079752     10.795742     29.246231  \n",
       "min          0.000000      0.000000      0.000000     67.000000  \n",
       "25%          0.000000     10.000000      1.000000    142.000000  \n",
       "50%          1.000000     20.000000      5.000000    162.000000  \n",
       "75%          2.000000     35.000000     13.000000    181.000000  \n",
       "max          7.000000    175.000000    109.000000    263.000000  "
      ]
     },
     "execution_count": 4,
     "metadata": {},
     "output_type": "execute_result"
    }
   ],
   "source": [
    "data.describe()"
   ]
  },
  {
   "cell_type": "code",
   "execution_count": 5,
   "id": "0eda347d",
   "metadata": {
    "execution": {
     "iopub.execute_input": "2025-03-07T15:26:19.757964Z",
     "iopub.status.busy": "2025-03-07T15:26:19.757591Z",
     "iopub.status.idle": "2025-03-07T15:26:19.806162Z",
     "shell.execute_reply": "2025-03-07T15:26:19.805066Z"
    },
    "papermill": {
     "duration": 0.063363,
     "end_time": "2025-03-07T15:26:19.808143",
     "exception": false,
     "start_time": "2025-03-07T15:26:19.744780",
     "status": "completed"
    },
    "tags": []
   },
   "outputs": [
    {
     "name": "stdout",
     "output_type": "stream",
     "text": [
      "<class 'pandas.core.frame.DataFrame'>\n",
      "RangeIndex: 76014 entries, 0 to 76013\n",
      "Data columns (total 15 columns):\n",
      " #   Column          Non-Null Count  Dtype  \n",
      "---  ------          --------------  -----  \n",
      " 0   mid             76014 non-null  int64  \n",
      " 1   date            76014 non-null  object \n",
      " 2   venue           76014 non-null  object \n",
      " 3   batting_team    76014 non-null  object \n",
      " 4   bowling_team    76014 non-null  object \n",
      " 5   batsman         76014 non-null  object \n",
      " 6   bowler          76014 non-null  object \n",
      " 7   runs            76014 non-null  int64  \n",
      " 8   wickets         76014 non-null  int64  \n",
      " 9   overs           76014 non-null  float64\n",
      " 10  runs_last_5     76014 non-null  int64  \n",
      " 11  wickets_last_5  76014 non-null  int64  \n",
      " 12  striker         76014 non-null  int64  \n",
      " 13  non-striker     76014 non-null  int64  \n",
      " 14  total           76014 non-null  int64  \n",
      "dtypes: float64(1), int64(8), object(6)\n",
      "memory usage: 8.7+ MB\n"
     ]
    }
   ],
   "source": [
    "data.info()"
   ]
  },
  {
   "cell_type": "code",
   "execution_count": 6,
   "id": "1949b672",
   "metadata": {
    "execution": {
     "iopub.execute_input": "2025-03-07T15:26:19.832942Z",
     "iopub.status.busy": "2025-03-07T15:26:19.832533Z",
     "iopub.status.idle": "2025-03-07T15:26:19.876496Z",
     "shell.execute_reply": "2025-03-07T15:26:19.875288Z"
    },
    "papermill": {
     "duration": 0.058276,
     "end_time": "2025-03-07T15:26:19.878385",
     "exception": false,
     "start_time": "2025-03-07T15:26:19.820109",
     "status": "completed"
    },
    "tags": []
   },
   "outputs": [
    {
     "data": {
      "text/plain": [
       "mid               617\n",
       "date              442\n",
       "venue              35\n",
       "batting_team       14\n",
       "bowling_team       14\n",
       "batsman           411\n",
       "bowler            329\n",
       "runs              252\n",
       "wickets            11\n",
       "overs             140\n",
       "runs_last_5       102\n",
       "wickets_last_5      8\n",
       "striker           155\n",
       "non-striker        88\n",
       "total             138\n",
       "dtype: int64"
      ]
     },
     "execution_count": 6,
     "metadata": {},
     "output_type": "execute_result"
    }
   ],
   "source": [
    "data.nunique()"
   ]
  },
  {
   "cell_type": "code",
   "execution_count": 7,
   "id": "5fae210d",
   "metadata": {
    "execution": {
     "iopub.execute_input": "2025-03-07T15:26:19.903740Z",
     "iopub.status.busy": "2025-03-07T15:26:19.903310Z",
     "iopub.status.idle": "2025-03-07T15:26:19.910827Z",
     "shell.execute_reply": "2025-03-07T15:26:19.909481Z"
    },
    "papermill": {
     "duration": 0.022159,
     "end_time": "2025-03-07T15:26:19.912699",
     "exception": false,
     "start_time": "2025-03-07T15:26:19.890540",
     "status": "completed"
    },
    "tags": []
   },
   "outputs": [
    {
     "data": {
      "text/plain": [
       "mid                 int64\n",
       "date               object\n",
       "venue              object\n",
       "batting_team       object\n",
       "bowling_team       object\n",
       "batsman            object\n",
       "bowler             object\n",
       "runs                int64\n",
       "wickets             int64\n",
       "overs             float64\n",
       "runs_last_5         int64\n",
       "wickets_last_5      int64\n",
       "striker             int64\n",
       "non-striker         int64\n",
       "total               int64\n",
       "dtype: object"
      ]
     },
     "execution_count": 7,
     "metadata": {},
     "output_type": "execute_result"
    }
   ],
   "source": [
    "data.dtypes"
   ]
  },
  {
   "cell_type": "markdown",
   "id": "d56839b0",
   "metadata": {
    "papermill": {
     "duration": 0.011765,
     "end_time": "2025-03-07T15:26:19.936906",
     "exception": false,
     "start_time": "2025-03-07T15:26:19.925141",
     "status": "completed"
    },
    "tags": []
   },
   "source": [
    "**DATA CLEANING**"
   ]
  },
  {
   "cell_type": "code",
   "execution_count": 8,
   "id": "a591aea8",
   "metadata": {
    "execution": {
     "iopub.execute_input": "2025-03-07T15:26:19.963442Z",
     "iopub.status.busy": "2025-03-07T15:26:19.963075Z",
     "iopub.status.idle": "2025-03-07T15:26:19.969534Z",
     "shell.execute_reply": "2025-03-07T15:26:19.968160Z"
    },
    "papermill": {
     "duration": 0.021397,
     "end_time": "2025-03-07T15:26:19.971473",
     "exception": false,
     "start_time": "2025-03-07T15:26:19.950076",
     "status": "completed"
    },
    "tags": []
   },
   "outputs": [
    {
     "data": {
      "text/plain": [
       "Index(['mid', 'date', 'venue', 'batting_team', 'bowling_team', 'batsman',\n",
       "       'bowler', 'runs', 'wickets', 'overs', 'runs_last_5', 'wickets_last_5',\n",
       "       'striker', 'non-striker', 'total'],\n",
       "      dtype='object')"
      ]
     },
     "execution_count": 8,
     "metadata": {},
     "output_type": "execute_result"
    }
   ],
   "source": [
    "data.columns"
   ]
  },
  {
   "cell_type": "code",
   "execution_count": 9,
   "id": "f5800c40",
   "metadata": {
    "execution": {
     "iopub.execute_input": "2025-03-07T15:26:19.996779Z",
     "iopub.status.busy": "2025-03-07T15:26:19.996364Z",
     "iopub.status.idle": "2025-03-07T15:26:20.016891Z",
     "shell.execute_reply": "2025-03-07T15:26:20.015681Z"
    },
    "papermill": {
     "duration": 0.03513,
     "end_time": "2025-03-07T15:26:20.018571",
     "exception": false,
     "start_time": "2025-03-07T15:26:19.983441",
     "status": "completed"
    },
    "tags": []
   },
   "outputs": [
    {
     "name": "stdout",
     "output_type": "stream",
     "text": [
      "Before Removing Irrelevant Columns : (76014, 15)\n",
      "After Removing Irrelevant Columns : (76014, 8)\n"
     ]
    },
    {
     "data": {
      "text/html": [
       "<div>\n",
       "<style scoped>\n",
       "    .dataframe tbody tr th:only-of-type {\n",
       "        vertical-align: middle;\n",
       "    }\n",
       "\n",
       "    .dataframe tbody tr th {\n",
       "        vertical-align: top;\n",
       "    }\n",
       "\n",
       "    .dataframe thead th {\n",
       "        text-align: right;\n",
       "    }\n",
       "</style>\n",
       "<table border=\"1\" class=\"dataframe\">\n",
       "  <thead>\n",
       "    <tr style=\"text-align: right;\">\n",
       "      <th></th>\n",
       "      <th>batting_team</th>\n",
       "      <th>bowling_team</th>\n",
       "      <th>runs</th>\n",
       "      <th>wickets</th>\n",
       "      <th>overs</th>\n",
       "      <th>runs_last_5</th>\n",
       "      <th>wickets_last_5</th>\n",
       "      <th>total</th>\n",
       "    </tr>\n",
       "  </thead>\n",
       "  <tbody>\n",
       "    <tr>\n",
       "      <th>0</th>\n",
       "      <td>Kolkata Knight Riders</td>\n",
       "      <td>Royal Challengers Bangalore</td>\n",
       "      <td>1</td>\n",
       "      <td>0</td>\n",
       "      <td>0.1</td>\n",
       "      <td>1</td>\n",
       "      <td>0</td>\n",
       "      <td>222</td>\n",
       "    </tr>\n",
       "    <tr>\n",
       "      <th>1</th>\n",
       "      <td>Kolkata Knight Riders</td>\n",
       "      <td>Royal Challengers Bangalore</td>\n",
       "      <td>1</td>\n",
       "      <td>0</td>\n",
       "      <td>0.2</td>\n",
       "      <td>1</td>\n",
       "      <td>0</td>\n",
       "      <td>222</td>\n",
       "    </tr>\n",
       "    <tr>\n",
       "      <th>2</th>\n",
       "      <td>Kolkata Knight Riders</td>\n",
       "      <td>Royal Challengers Bangalore</td>\n",
       "      <td>2</td>\n",
       "      <td>0</td>\n",
       "      <td>0.2</td>\n",
       "      <td>2</td>\n",
       "      <td>0</td>\n",
       "      <td>222</td>\n",
       "    </tr>\n",
       "    <tr>\n",
       "      <th>3</th>\n",
       "      <td>Kolkata Knight Riders</td>\n",
       "      <td>Royal Challengers Bangalore</td>\n",
       "      <td>2</td>\n",
       "      <td>0</td>\n",
       "      <td>0.3</td>\n",
       "      <td>2</td>\n",
       "      <td>0</td>\n",
       "      <td>222</td>\n",
       "    </tr>\n",
       "    <tr>\n",
       "      <th>4</th>\n",
       "      <td>Kolkata Knight Riders</td>\n",
       "      <td>Royal Challengers Bangalore</td>\n",
       "      <td>2</td>\n",
       "      <td>0</td>\n",
       "      <td>0.4</td>\n",
       "      <td>2</td>\n",
       "      <td>0</td>\n",
       "      <td>222</td>\n",
       "    </tr>\n",
       "  </tbody>\n",
       "</table>\n",
       "</div>"
      ],
      "text/plain": [
       "            batting_team                 bowling_team  runs  wickets  overs  \\\n",
       "0  Kolkata Knight Riders  Royal Challengers Bangalore     1        0    0.1   \n",
       "1  Kolkata Knight Riders  Royal Challengers Bangalore     1        0    0.2   \n",
       "2  Kolkata Knight Riders  Royal Challengers Bangalore     2        0    0.2   \n",
       "3  Kolkata Knight Riders  Royal Challengers Bangalore     2        0    0.3   \n",
       "4  Kolkata Knight Riders  Royal Challengers Bangalore     2        0    0.4   \n",
       "\n",
       "   runs_last_5  wickets_last_5  total  \n",
       "0            1               0    222  \n",
       "1            1               0    222  \n",
       "2            2               0    222  \n",
       "3            2               0    222  \n",
       "4            2               0    222  "
      ]
     },
     "execution_count": 9,
     "metadata": {},
     "output_type": "execute_result"
    }
   ],
   "source": [
    "irrelevant = ['mid', 'date', 'venue','batsman', 'bowler', 'striker', 'non-striker']\n",
    "print(f'Before Removing Irrelevant Columns : {data.shape}')\n",
    "data = data.drop(irrelevant, axis=1) # Drop Irrelevant Columns\n",
    "print(f'After Removing Irrelevant Columns : {data.shape}')\n",
    "data.head()"
   ]
  },
  {
   "cell_type": "code",
   "execution_count": 10,
   "id": "40ad6bce",
   "metadata": {
    "execution": {
     "iopub.execute_input": "2025-03-07T15:26:20.044406Z",
     "iopub.status.busy": "2025-03-07T15:26:20.044044Z",
     "iopub.status.idle": "2025-03-07T15:26:20.048393Z",
     "shell.execute_reply": "2025-03-07T15:26:20.047351Z"
    },
    "papermill": {
     "duration": 0.019419,
     "end_time": "2025-03-07T15:26:20.050319",
     "exception": false,
     "start_time": "2025-03-07T15:26:20.030900",
     "status": "completed"
    },
    "tags": []
   },
   "outputs": [],
   "source": [
    "const_teams = ['Kolkata Knight Riders', 'Chennai Super Kings', 'Rajasthan Royals',\n",
    "              'Mumbai Indians', 'Kings XI Punjab', 'Royal Challengers Bangalore',\n",
    "              'Delhi Daredevils', 'Sunrisers Hyderabad']"
   ]
  },
  {
   "cell_type": "code",
   "execution_count": 11,
   "id": "ccab0d3a",
   "metadata": {
    "execution": {
     "iopub.execute_input": "2025-03-07T15:26:20.076121Z",
     "iopub.status.busy": "2025-03-07T15:26:20.075740Z",
     "iopub.status.idle": "2025-03-07T15:26:20.107472Z",
     "shell.execute_reply": "2025-03-07T15:26:20.106140Z"
    },
    "papermill": {
     "duration": 0.046745,
     "end_time": "2025-03-07T15:26:20.109418",
     "exception": false,
     "start_time": "2025-03-07T15:26:20.062673",
     "status": "completed"
    },
    "tags": []
   },
   "outputs": [
    {
     "name": "stdout",
     "output_type": "stream",
     "text": [
      "Before Removing Inconsistent Teams : (76014, 8)\n",
      "After Removing Irrelevant Columns : (53811, 8)\n",
      "Consistent Teams : \n",
      "['Kolkata Knight Riders' 'Chennai Super Kings' 'Rajasthan Royals'\n",
      " 'Mumbai Indians' 'Kings XI Punjab' 'Royal Challengers Bangalore'\n",
      " 'Delhi Daredevils' 'Sunrisers Hyderabad']\n"
     ]
    },
    {
     "data": {
      "text/html": [
       "<div>\n",
       "<style scoped>\n",
       "    .dataframe tbody tr th:only-of-type {\n",
       "        vertical-align: middle;\n",
       "    }\n",
       "\n",
       "    .dataframe tbody tr th {\n",
       "        vertical-align: top;\n",
       "    }\n",
       "\n",
       "    .dataframe thead th {\n",
       "        text-align: right;\n",
       "    }\n",
       "</style>\n",
       "<table border=\"1\" class=\"dataframe\">\n",
       "  <thead>\n",
       "    <tr style=\"text-align: right;\">\n",
       "      <th></th>\n",
       "      <th>batting_team</th>\n",
       "      <th>bowling_team</th>\n",
       "      <th>runs</th>\n",
       "      <th>wickets</th>\n",
       "      <th>overs</th>\n",
       "      <th>runs_last_5</th>\n",
       "      <th>wickets_last_5</th>\n",
       "      <th>total</th>\n",
       "    </tr>\n",
       "  </thead>\n",
       "  <tbody>\n",
       "    <tr>\n",
       "      <th>0</th>\n",
       "      <td>Kolkata Knight Riders</td>\n",
       "      <td>Royal Challengers Bangalore</td>\n",
       "      <td>1</td>\n",
       "      <td>0</td>\n",
       "      <td>0.1</td>\n",
       "      <td>1</td>\n",
       "      <td>0</td>\n",
       "      <td>222</td>\n",
       "    </tr>\n",
       "    <tr>\n",
       "      <th>1</th>\n",
       "      <td>Kolkata Knight Riders</td>\n",
       "      <td>Royal Challengers Bangalore</td>\n",
       "      <td>1</td>\n",
       "      <td>0</td>\n",
       "      <td>0.2</td>\n",
       "      <td>1</td>\n",
       "      <td>0</td>\n",
       "      <td>222</td>\n",
       "    </tr>\n",
       "    <tr>\n",
       "      <th>2</th>\n",
       "      <td>Kolkata Knight Riders</td>\n",
       "      <td>Royal Challengers Bangalore</td>\n",
       "      <td>2</td>\n",
       "      <td>0</td>\n",
       "      <td>0.2</td>\n",
       "      <td>2</td>\n",
       "      <td>0</td>\n",
       "      <td>222</td>\n",
       "    </tr>\n",
       "    <tr>\n",
       "      <th>3</th>\n",
       "      <td>Kolkata Knight Riders</td>\n",
       "      <td>Royal Challengers Bangalore</td>\n",
       "      <td>2</td>\n",
       "      <td>0</td>\n",
       "      <td>0.3</td>\n",
       "      <td>2</td>\n",
       "      <td>0</td>\n",
       "      <td>222</td>\n",
       "    </tr>\n",
       "    <tr>\n",
       "      <th>4</th>\n",
       "      <td>Kolkata Knight Riders</td>\n",
       "      <td>Royal Challengers Bangalore</td>\n",
       "      <td>2</td>\n",
       "      <td>0</td>\n",
       "      <td>0.4</td>\n",
       "      <td>2</td>\n",
       "      <td>0</td>\n",
       "      <td>222</td>\n",
       "    </tr>\n",
       "  </tbody>\n",
       "</table>\n",
       "</div>"
      ],
      "text/plain": [
       "            batting_team                 bowling_team  runs  wickets  overs  \\\n",
       "0  Kolkata Knight Riders  Royal Challengers Bangalore     1        0    0.1   \n",
       "1  Kolkata Knight Riders  Royal Challengers Bangalore     1        0    0.2   \n",
       "2  Kolkata Knight Riders  Royal Challengers Bangalore     2        0    0.2   \n",
       "3  Kolkata Knight Riders  Royal Challengers Bangalore     2        0    0.3   \n",
       "4  Kolkata Knight Riders  Royal Challengers Bangalore     2        0    0.4   \n",
       "\n",
       "   runs_last_5  wickets_last_5  total  \n",
       "0            1               0    222  \n",
       "1            1               0    222  \n",
       "2            2               0    222  \n",
       "3            2               0    222  \n",
       "4            2               0    222  "
      ]
     },
     "execution_count": 11,
     "metadata": {},
     "output_type": "execute_result"
    }
   ],
   "source": [
    "print(f'Before Removing Inconsistent Teams : {data.shape}')\n",
    "data = data[(data['batting_team'].isin(const_teams)) & (data['bowling_team'].isin(const_teams))]\n",
    "print(f'After Removing Irrelevant Columns : {data.shape}')\n",
    "print(f\"Consistent Teams : \\n{data['batting_team'].unique()}\")\n",
    "data.head()"
   ]
  },
  {
   "cell_type": "markdown",
   "id": "ce83fcc1",
   "metadata": {
    "papermill": {
     "duration": 0.012467,
     "end_time": "2025-03-07T15:26:20.134621",
     "exception": false,
     "start_time": "2025-03-07T15:26:20.122154",
     "status": "completed"
    },
    "tags": []
   },
   "source": [
    "removing first 5 overs\n"
   ]
  },
  {
   "cell_type": "code",
   "execution_count": 12,
   "id": "ba4cc4f9",
   "metadata": {
    "execution": {
     "iopub.execute_input": "2025-03-07T15:26:20.160414Z",
     "iopub.status.busy": "2025-03-07T15:26:20.160067Z",
     "iopub.status.idle": "2025-03-07T15:26:20.177747Z",
     "shell.execute_reply": "2025-03-07T15:26:20.176160Z"
    },
    "papermill": {
     "duration": 0.032756,
     "end_time": "2025-03-07T15:26:20.179713",
     "exception": false,
     "start_time": "2025-03-07T15:26:20.146957",
     "status": "completed"
    },
    "tags": []
   },
   "outputs": [
    {
     "name": "stdout",
     "output_type": "stream",
     "text": [
      "Before Removing Overs : (53811, 8)\n",
      "After Removing Overs : (40108, 8)\n"
     ]
    },
    {
     "data": {
      "text/html": [
       "<div>\n",
       "<style scoped>\n",
       "    .dataframe tbody tr th:only-of-type {\n",
       "        vertical-align: middle;\n",
       "    }\n",
       "\n",
       "    .dataframe tbody tr th {\n",
       "        vertical-align: top;\n",
       "    }\n",
       "\n",
       "    .dataframe thead th {\n",
       "        text-align: right;\n",
       "    }\n",
       "</style>\n",
       "<table border=\"1\" class=\"dataframe\">\n",
       "  <thead>\n",
       "    <tr style=\"text-align: right;\">\n",
       "      <th></th>\n",
       "      <th>batting_team</th>\n",
       "      <th>bowling_team</th>\n",
       "      <th>runs</th>\n",
       "      <th>wickets</th>\n",
       "      <th>overs</th>\n",
       "      <th>runs_last_5</th>\n",
       "      <th>wickets_last_5</th>\n",
       "      <th>total</th>\n",
       "    </tr>\n",
       "  </thead>\n",
       "  <tbody>\n",
       "    <tr>\n",
       "      <th>32</th>\n",
       "      <td>Kolkata Knight Riders</td>\n",
       "      <td>Royal Challengers Bangalore</td>\n",
       "      <td>61</td>\n",
       "      <td>0</td>\n",
       "      <td>5.1</td>\n",
       "      <td>59</td>\n",
       "      <td>0</td>\n",
       "      <td>222</td>\n",
       "    </tr>\n",
       "    <tr>\n",
       "      <th>33</th>\n",
       "      <td>Kolkata Knight Riders</td>\n",
       "      <td>Royal Challengers Bangalore</td>\n",
       "      <td>61</td>\n",
       "      <td>1</td>\n",
       "      <td>5.2</td>\n",
       "      <td>59</td>\n",
       "      <td>1</td>\n",
       "      <td>222</td>\n",
       "    </tr>\n",
       "    <tr>\n",
       "      <th>34</th>\n",
       "      <td>Kolkata Knight Riders</td>\n",
       "      <td>Royal Challengers Bangalore</td>\n",
       "      <td>61</td>\n",
       "      <td>1</td>\n",
       "      <td>5.3</td>\n",
       "      <td>59</td>\n",
       "      <td>1</td>\n",
       "      <td>222</td>\n",
       "    </tr>\n",
       "    <tr>\n",
       "      <th>35</th>\n",
       "      <td>Kolkata Knight Riders</td>\n",
       "      <td>Royal Challengers Bangalore</td>\n",
       "      <td>61</td>\n",
       "      <td>1</td>\n",
       "      <td>5.4</td>\n",
       "      <td>59</td>\n",
       "      <td>1</td>\n",
       "      <td>222</td>\n",
       "    </tr>\n",
       "    <tr>\n",
       "      <th>36</th>\n",
       "      <td>Kolkata Knight Riders</td>\n",
       "      <td>Royal Challengers Bangalore</td>\n",
       "      <td>61</td>\n",
       "      <td>1</td>\n",
       "      <td>5.5</td>\n",
       "      <td>58</td>\n",
       "      <td>1</td>\n",
       "      <td>222</td>\n",
       "    </tr>\n",
       "  </tbody>\n",
       "</table>\n",
       "</div>"
      ],
      "text/plain": [
       "             batting_team                 bowling_team  runs  wickets  overs  \\\n",
       "32  Kolkata Knight Riders  Royal Challengers Bangalore    61        0    5.1   \n",
       "33  Kolkata Knight Riders  Royal Challengers Bangalore    61        1    5.2   \n",
       "34  Kolkata Knight Riders  Royal Challengers Bangalore    61        1    5.3   \n",
       "35  Kolkata Knight Riders  Royal Challengers Bangalore    61        1    5.4   \n",
       "36  Kolkata Knight Riders  Royal Challengers Bangalore    61        1    5.5   \n",
       "\n",
       "    runs_last_5  wickets_last_5  total  \n",
       "32           59               0    222  \n",
       "33           59               1    222  \n",
       "34           59               1    222  \n",
       "35           59               1    222  \n",
       "36           58               1    222  "
      ]
     },
     "execution_count": 12,
     "metadata": {},
     "output_type": "execute_result"
    }
   ],
   "source": [
    "print(f'Before Removing Overs : {data.shape}')\n",
    "data = data[data['overs'] >= 5.0]\n",
    "print(f'After Removing Overs : {data.shape}')\n",
    "data.head()"
   ]
  },
  {
   "cell_type": "markdown",
   "id": "01b31e6c",
   "metadata": {
    "papermill": {
     "duration": 0.012395,
     "end_time": "2025-03-07T15:26:20.204799",
     "exception": false,
     "start_time": "2025-03-07T15:26:20.192404",
     "status": "completed"
    },
    "tags": []
   },
   "source": [
    "data processing and encoding"
   ]
  },
  {
   "cell_type": "code",
   "execution_count": 13,
   "id": "34067aa1",
   "metadata": {
    "execution": {
     "iopub.execute_input": "2025-03-07T15:26:20.231447Z",
     "iopub.status.busy": "2025-03-07T15:26:20.231041Z",
     "iopub.status.idle": "2025-03-07T15:26:21.883728Z",
     "shell.execute_reply": "2025-03-07T15:26:21.882417Z"
    },
    "papermill": {
     "duration": 1.668065,
     "end_time": "2025-03-07T15:26:21.885596",
     "exception": false,
     "start_time": "2025-03-07T15:26:20.217531",
     "status": "completed"
    },
    "tags": []
   },
   "outputs": [
    {
     "data": {
      "text/html": [
       "<div>\n",
       "<style scoped>\n",
       "    .dataframe tbody tr th:only-of-type {\n",
       "        vertical-align: middle;\n",
       "    }\n",
       "\n",
       "    .dataframe tbody tr th {\n",
       "        vertical-align: top;\n",
       "    }\n",
       "\n",
       "    .dataframe thead th {\n",
       "        text-align: right;\n",
       "    }\n",
       "</style>\n",
       "<table border=\"1\" class=\"dataframe\">\n",
       "  <thead>\n",
       "    <tr style=\"text-align: right;\">\n",
       "      <th></th>\n",
       "      <th>batting_team</th>\n",
       "      <th>bowling_team</th>\n",
       "      <th>runs</th>\n",
       "      <th>wickets</th>\n",
       "      <th>overs</th>\n",
       "      <th>runs_last_5</th>\n",
       "      <th>wickets_last_5</th>\n",
       "      <th>total</th>\n",
       "    </tr>\n",
       "  </thead>\n",
       "  <tbody>\n",
       "    <tr>\n",
       "      <th>32</th>\n",
       "      <td>3</td>\n",
       "      <td>6</td>\n",
       "      <td>61</td>\n",
       "      <td>0</td>\n",
       "      <td>5.1</td>\n",
       "      <td>59</td>\n",
       "      <td>0</td>\n",
       "      <td>222</td>\n",
       "    </tr>\n",
       "    <tr>\n",
       "      <th>33</th>\n",
       "      <td>3</td>\n",
       "      <td>6</td>\n",
       "      <td>61</td>\n",
       "      <td>1</td>\n",
       "      <td>5.2</td>\n",
       "      <td>59</td>\n",
       "      <td>1</td>\n",
       "      <td>222</td>\n",
       "    </tr>\n",
       "    <tr>\n",
       "      <th>34</th>\n",
       "      <td>3</td>\n",
       "      <td>6</td>\n",
       "      <td>61</td>\n",
       "      <td>1</td>\n",
       "      <td>5.3</td>\n",
       "      <td>59</td>\n",
       "      <td>1</td>\n",
       "      <td>222</td>\n",
       "    </tr>\n",
       "    <tr>\n",
       "      <th>35</th>\n",
       "      <td>3</td>\n",
       "      <td>6</td>\n",
       "      <td>61</td>\n",
       "      <td>1</td>\n",
       "      <td>5.4</td>\n",
       "      <td>59</td>\n",
       "      <td>1</td>\n",
       "      <td>222</td>\n",
       "    </tr>\n",
       "    <tr>\n",
       "      <th>36</th>\n",
       "      <td>3</td>\n",
       "      <td>6</td>\n",
       "      <td>61</td>\n",
       "      <td>1</td>\n",
       "      <td>5.5</td>\n",
       "      <td>58</td>\n",
       "      <td>1</td>\n",
       "      <td>222</td>\n",
       "    </tr>\n",
       "  </tbody>\n",
       "</table>\n",
       "</div>"
      ],
      "text/plain": [
       "    batting_team  bowling_team  runs  wickets  overs  runs_last_5  \\\n",
       "32             3             6    61        0    5.1           59   \n",
       "33             3             6    61        1    5.2           59   \n",
       "34             3             6    61        1    5.3           59   \n",
       "35             3             6    61        1    5.4           59   \n",
       "36             3             6    61        1    5.5           58   \n",
       "\n",
       "    wickets_last_5  total  \n",
       "32               0    222  \n",
       "33               1    222  \n",
       "34               1    222  \n",
       "35               1    222  \n",
       "36               1    222  "
      ]
     },
     "execution_count": 13,
     "metadata": {},
     "output_type": "execute_result"
    }
   ],
   "source": [
    "from sklearn.preprocessing import LabelEncoder, OneHotEncoder\n",
    "le = LabelEncoder()\n",
    "for col in ['batting_team', 'bowling_team']:\n",
    "  data[col] = le.fit_transform(data[col])\n",
    "data.head()"
   ]
  },
  {
   "cell_type": "markdown",
   "id": "685b09f0",
   "metadata": {
    "papermill": {
     "duration": 0.012939,
     "end_time": "2025-03-07T15:26:21.914605",
     "exception": false,
     "start_time": "2025-03-07T15:26:21.901666",
     "status": "completed"
    },
    "tags": []
   },
   "source": [
    "#### Performing One Hot Encoding and Column Transformation"
   ]
  },
  {
   "cell_type": "code",
   "execution_count": 14,
   "id": "cd37e3e3",
   "metadata": {
    "execution": {
     "iopub.execute_input": "2025-03-07T15:26:21.941543Z",
     "iopub.status.busy": "2025-03-07T15:26:21.941040Z",
     "iopub.status.idle": "2025-03-07T15:26:21.969974Z",
     "shell.execute_reply": "2025-03-07T15:26:21.968894Z"
    },
    "papermill": {
     "duration": 0.044751,
     "end_time": "2025-03-07T15:26:21.971961",
     "exception": false,
     "start_time": "2025-03-07T15:26:21.927210",
     "status": "completed"
    },
    "tags": []
   },
   "outputs": [],
   "source": [
    "from sklearn.compose import ColumnTransformer\n",
    "columnTransformer = ColumnTransformer([('encoder',\n",
    "                                        OneHotEncoder(),\n",
    "                                        [0, 1])],\n",
    "                                      remainder='passthrough')"
   ]
  },
  {
   "cell_type": "code",
   "execution_count": 15,
   "id": "46905c6b",
   "metadata": {
    "execution": {
     "iopub.execute_input": "2025-03-07T15:26:21.999199Z",
     "iopub.status.busy": "2025-03-07T15:26:21.998808Z",
     "iopub.status.idle": "2025-03-07T15:26:22.041123Z",
     "shell.execute_reply": "2025-03-07T15:26:22.039677Z"
    },
    "papermill": {
     "duration": 0.057827,
     "end_time": "2025-03-07T15:26:22.043143",
     "exception": false,
     "start_time": "2025-03-07T15:26:21.985316",
     "status": "completed"
    },
    "tags": []
   },
   "outputs": [],
   "source": [
    "data = np.array(columnTransformer.fit_transform(data))"
   ]
  },
  {
   "cell_type": "markdown",
   "id": "f364fc49",
   "metadata": {
    "papermill": {
     "duration": 0.012389,
     "end_time": "2025-03-07T15:26:22.068462",
     "exception": false,
     "start_time": "2025-03-07T15:26:22.056073",
     "status": "completed"
    },
    "tags": []
   },
   "source": [
    "Save the Numpy Array in a new DataFrame with transformed columns"
   ]
  },
  {
   "cell_type": "code",
   "execution_count": 16,
   "id": "2bf475d8",
   "metadata": {
    "execution": {
     "iopub.execute_input": "2025-03-07T15:26:22.095446Z",
     "iopub.status.busy": "2025-03-07T15:26:22.095061Z",
     "iopub.status.idle": "2025-03-07T15:26:22.100831Z",
     "shell.execute_reply": "2025-03-07T15:26:22.099670Z"
    },
    "papermill": {
     "duration": 0.021505,
     "end_time": "2025-03-07T15:26:22.102740",
     "exception": false,
     "start_time": "2025-03-07T15:26:22.081235",
     "status": "completed"
    },
    "tags": []
   },
   "outputs": [],
   "source": [
    "cols = ['batting_team_Chennai Super Kings', 'batting_team_Delhi Daredevils', 'batting_team_Kings XI Punjab',\n",
    "              'batting_team_Kolkata Knight Riders', 'batting_team_Mumbai Indians', 'batting_team_Rajasthan Royals',\n",
    "              'batting_team_Royal Challengers Bangalore', 'batting_team_Sunrisers Hyderabad',\n",
    "              'bowling_team_Chennai Super Kings', 'bowling_team_Delhi Daredevils', 'bowling_team_Kings XI Punjab',\n",
    "              'bowling_team_Kolkata Knight Riders', 'bowling_team_Mumbai Indians', 'bowling_team_Rajasthan Royals',\n",
    "              'bowling_team_Royal Challengers Bangalore', 'bowling_team_Sunrisers Hyderabad', 'runs', 'wickets', 'overs',\n",
    "       'runs_last_5', 'wickets_last_5', 'total']\n",
    "df = pd.DataFrame(data, columns=cols)"
   ]
  },
  {
   "cell_type": "code",
   "execution_count": 17,
   "id": "c46e0f87",
   "metadata": {
    "execution": {
     "iopub.execute_input": "2025-03-07T15:26:22.130255Z",
     "iopub.status.busy": "2025-03-07T15:26:22.129857Z",
     "iopub.status.idle": "2025-03-07T15:26:22.164885Z",
     "shell.execute_reply": "2025-03-07T15:26:22.163806Z"
    },
    "papermill": {
     "duration": 0.051076,
     "end_time": "2025-03-07T15:26:22.166892",
     "exception": false,
     "start_time": "2025-03-07T15:26:22.115816",
     "status": "completed"
    },
    "tags": []
   },
   "outputs": [
    {
     "data": {
      "text/html": [
       "<div>\n",
       "<style scoped>\n",
       "    .dataframe tbody tr th:only-of-type {\n",
       "        vertical-align: middle;\n",
       "    }\n",
       "\n",
       "    .dataframe tbody tr th {\n",
       "        vertical-align: top;\n",
       "    }\n",
       "\n",
       "    .dataframe thead th {\n",
       "        text-align: right;\n",
       "    }\n",
       "</style>\n",
       "<table border=\"1\" class=\"dataframe\">\n",
       "  <thead>\n",
       "    <tr style=\"text-align: right;\">\n",
       "      <th></th>\n",
       "      <th>batting_team_Chennai Super Kings</th>\n",
       "      <th>batting_team_Delhi Daredevils</th>\n",
       "      <th>batting_team_Kings XI Punjab</th>\n",
       "      <th>batting_team_Kolkata Knight Riders</th>\n",
       "      <th>batting_team_Mumbai Indians</th>\n",
       "      <th>batting_team_Rajasthan Royals</th>\n",
       "      <th>batting_team_Royal Challengers Bangalore</th>\n",
       "      <th>batting_team_Sunrisers Hyderabad</th>\n",
       "      <th>bowling_team_Chennai Super Kings</th>\n",
       "      <th>bowling_team_Delhi Daredevils</th>\n",
       "      <th>...</th>\n",
       "      <th>bowling_team_Mumbai Indians</th>\n",
       "      <th>bowling_team_Rajasthan Royals</th>\n",
       "      <th>bowling_team_Royal Challengers Bangalore</th>\n",
       "      <th>bowling_team_Sunrisers Hyderabad</th>\n",
       "      <th>runs</th>\n",
       "      <th>wickets</th>\n",
       "      <th>overs</th>\n",
       "      <th>runs_last_5</th>\n",
       "      <th>wickets_last_5</th>\n",
       "      <th>total</th>\n",
       "    </tr>\n",
       "  </thead>\n",
       "  <tbody>\n",
       "    <tr>\n",
       "      <th>0</th>\n",
       "      <td>0.0</td>\n",
       "      <td>0.0</td>\n",
       "      <td>0.0</td>\n",
       "      <td>1.0</td>\n",
       "      <td>0.0</td>\n",
       "      <td>0.0</td>\n",
       "      <td>0.0</td>\n",
       "      <td>0.0</td>\n",
       "      <td>0.0</td>\n",
       "      <td>0.0</td>\n",
       "      <td>...</td>\n",
       "      <td>0.0</td>\n",
       "      <td>0.0</td>\n",
       "      <td>1.0</td>\n",
       "      <td>0.0</td>\n",
       "      <td>61.0</td>\n",
       "      <td>0.0</td>\n",
       "      <td>5.1</td>\n",
       "      <td>59.0</td>\n",
       "      <td>0.0</td>\n",
       "      <td>222.0</td>\n",
       "    </tr>\n",
       "    <tr>\n",
       "      <th>1</th>\n",
       "      <td>0.0</td>\n",
       "      <td>0.0</td>\n",
       "      <td>0.0</td>\n",
       "      <td>1.0</td>\n",
       "      <td>0.0</td>\n",
       "      <td>0.0</td>\n",
       "      <td>0.0</td>\n",
       "      <td>0.0</td>\n",
       "      <td>0.0</td>\n",
       "      <td>0.0</td>\n",
       "      <td>...</td>\n",
       "      <td>0.0</td>\n",
       "      <td>0.0</td>\n",
       "      <td>1.0</td>\n",
       "      <td>0.0</td>\n",
       "      <td>61.0</td>\n",
       "      <td>1.0</td>\n",
       "      <td>5.2</td>\n",
       "      <td>59.0</td>\n",
       "      <td>1.0</td>\n",
       "      <td>222.0</td>\n",
       "    </tr>\n",
       "    <tr>\n",
       "      <th>2</th>\n",
       "      <td>0.0</td>\n",
       "      <td>0.0</td>\n",
       "      <td>0.0</td>\n",
       "      <td>1.0</td>\n",
       "      <td>0.0</td>\n",
       "      <td>0.0</td>\n",
       "      <td>0.0</td>\n",
       "      <td>0.0</td>\n",
       "      <td>0.0</td>\n",
       "      <td>0.0</td>\n",
       "      <td>...</td>\n",
       "      <td>0.0</td>\n",
       "      <td>0.0</td>\n",
       "      <td>1.0</td>\n",
       "      <td>0.0</td>\n",
       "      <td>61.0</td>\n",
       "      <td>1.0</td>\n",
       "      <td>5.3</td>\n",
       "      <td>59.0</td>\n",
       "      <td>1.0</td>\n",
       "      <td>222.0</td>\n",
       "    </tr>\n",
       "    <tr>\n",
       "      <th>3</th>\n",
       "      <td>0.0</td>\n",
       "      <td>0.0</td>\n",
       "      <td>0.0</td>\n",
       "      <td>1.0</td>\n",
       "      <td>0.0</td>\n",
       "      <td>0.0</td>\n",
       "      <td>0.0</td>\n",
       "      <td>0.0</td>\n",
       "      <td>0.0</td>\n",
       "      <td>0.0</td>\n",
       "      <td>...</td>\n",
       "      <td>0.0</td>\n",
       "      <td>0.0</td>\n",
       "      <td>1.0</td>\n",
       "      <td>0.0</td>\n",
       "      <td>61.0</td>\n",
       "      <td>1.0</td>\n",
       "      <td>5.4</td>\n",
       "      <td>59.0</td>\n",
       "      <td>1.0</td>\n",
       "      <td>222.0</td>\n",
       "    </tr>\n",
       "    <tr>\n",
       "      <th>4</th>\n",
       "      <td>0.0</td>\n",
       "      <td>0.0</td>\n",
       "      <td>0.0</td>\n",
       "      <td>1.0</td>\n",
       "      <td>0.0</td>\n",
       "      <td>0.0</td>\n",
       "      <td>0.0</td>\n",
       "      <td>0.0</td>\n",
       "      <td>0.0</td>\n",
       "      <td>0.0</td>\n",
       "      <td>...</td>\n",
       "      <td>0.0</td>\n",
       "      <td>0.0</td>\n",
       "      <td>1.0</td>\n",
       "      <td>0.0</td>\n",
       "      <td>61.0</td>\n",
       "      <td>1.0</td>\n",
       "      <td>5.5</td>\n",
       "      <td>58.0</td>\n",
       "      <td>1.0</td>\n",
       "      <td>222.0</td>\n",
       "    </tr>\n",
       "  </tbody>\n",
       "</table>\n",
       "<p>5 rows × 22 columns</p>\n",
       "</div>"
      ],
      "text/plain": [
       "   batting_team_Chennai Super Kings  batting_team_Delhi Daredevils  \\\n",
       "0                               0.0                            0.0   \n",
       "1                               0.0                            0.0   \n",
       "2                               0.0                            0.0   \n",
       "3                               0.0                            0.0   \n",
       "4                               0.0                            0.0   \n",
       "\n",
       "   batting_team_Kings XI Punjab  batting_team_Kolkata Knight Riders  \\\n",
       "0                           0.0                                 1.0   \n",
       "1                           0.0                                 1.0   \n",
       "2                           0.0                                 1.0   \n",
       "3                           0.0                                 1.0   \n",
       "4                           0.0                                 1.0   \n",
       "\n",
       "   batting_team_Mumbai Indians  batting_team_Rajasthan Royals  \\\n",
       "0                          0.0                            0.0   \n",
       "1                          0.0                            0.0   \n",
       "2                          0.0                            0.0   \n",
       "3                          0.0                            0.0   \n",
       "4                          0.0                            0.0   \n",
       "\n",
       "   batting_team_Royal Challengers Bangalore  batting_team_Sunrisers Hyderabad  \\\n",
       "0                                       0.0                               0.0   \n",
       "1                                       0.0                               0.0   \n",
       "2                                       0.0                               0.0   \n",
       "3                                       0.0                               0.0   \n",
       "4                                       0.0                               0.0   \n",
       "\n",
       "   bowling_team_Chennai Super Kings  bowling_team_Delhi Daredevils  ...  \\\n",
       "0                               0.0                            0.0  ...   \n",
       "1                               0.0                            0.0  ...   \n",
       "2                               0.0                            0.0  ...   \n",
       "3                               0.0                            0.0  ...   \n",
       "4                               0.0                            0.0  ...   \n",
       "\n",
       "   bowling_team_Mumbai Indians  bowling_team_Rajasthan Royals  \\\n",
       "0                          0.0                            0.0   \n",
       "1                          0.0                            0.0   \n",
       "2                          0.0                            0.0   \n",
       "3                          0.0                            0.0   \n",
       "4                          0.0                            0.0   \n",
       "\n",
       "   bowling_team_Royal Challengers Bangalore  bowling_team_Sunrisers Hyderabad  \\\n",
       "0                                       1.0                               0.0   \n",
       "1                                       1.0                               0.0   \n",
       "2                                       1.0                               0.0   \n",
       "3                                       1.0                               0.0   \n",
       "4                                       1.0                               0.0   \n",
       "\n",
       "   runs  wickets  overs  runs_last_5  wickets_last_5  total  \n",
       "0  61.0      0.0    5.1         59.0             0.0  222.0  \n",
       "1  61.0      1.0    5.2         59.0             1.0  222.0  \n",
       "2  61.0      1.0    5.3         59.0             1.0  222.0  \n",
       "3  61.0      1.0    5.4         59.0             1.0  222.0  \n",
       "4  61.0      1.0    5.5         58.0             1.0  222.0  \n",
       "\n",
       "[5 rows x 22 columns]"
      ]
     },
     "execution_count": 17,
     "metadata": {},
     "output_type": "execute_result"
    }
   ],
   "source": [
    "df.head()"
   ]
  },
  {
   "cell_type": "markdown",
   "id": "4330ec6a",
   "metadata": {
    "papermill": {
     "duration": 0.015833,
     "end_time": "2025-03-07T15:26:22.198402",
     "exception": false,
     "start_time": "2025-03-07T15:26:22.182569",
     "status": "completed"
    },
    "tags": []
   },
   "source": [
    "**MODEL BUILDING**"
   ]
  },
  {
   "cell_type": "markdown",
   "id": "fdac5c31",
   "metadata": {
    "papermill": {
     "duration": 0.013169,
     "end_time": "2025-03-07T15:26:22.225848",
     "exception": false,
     "start_time": "2025-03-07T15:26:22.212679",
     "status": "completed"
    },
    "tags": []
   },
   "source": [
    "Train and Test split"
   ]
  },
  {
   "cell_type": "code",
   "execution_count": 18,
   "id": "14146c8d",
   "metadata": {
    "execution": {
     "iopub.execute_input": "2025-03-07T15:26:22.253638Z",
     "iopub.status.busy": "2025-03-07T15:26:22.253278Z",
     "iopub.status.idle": "2025-03-07T15:26:22.260056Z",
     "shell.execute_reply": "2025-03-07T15:26:22.258932Z"
    },
    "papermill": {
     "duration": 0.022681,
     "end_time": "2025-03-07T15:26:22.261880",
     "exception": false,
     "start_time": "2025-03-07T15:26:22.239199",
     "status": "completed"
    },
    "tags": []
   },
   "outputs": [],
   "source": [
    "features = df.drop(['total'], axis=1)\n",
    "labels = df['total']"
   ]
  },
  {
   "cell_type": "code",
   "execution_count": 19,
   "id": "70f419ca",
   "metadata": {
    "execution": {
     "iopub.execute_input": "2025-03-07T15:26:22.290181Z",
     "iopub.status.busy": "2025-03-07T15:26:22.289809Z",
     "iopub.status.idle": "2025-03-07T15:26:22.435262Z",
     "shell.execute_reply": "2025-03-07T15:26:22.434141Z"
    },
    "papermill": {
     "duration": 0.161814,
     "end_time": "2025-03-07T15:26:22.437185",
     "exception": false,
     "start_time": "2025-03-07T15:26:22.275371",
     "status": "completed"
    },
    "tags": []
   },
   "outputs": [
    {
     "name": "stdout",
     "output_type": "stream",
     "text": [
      "Training Set : (32086, 21)\n",
      "Testing Set : (8022, 21)\n"
     ]
    }
   ],
   "source": [
    "from sklearn.model_selection import train_test_split\n",
    "train_features, test_features, train_labels, test_labels = train_test_split(features, labels, test_size=0.20, shuffle=True)\n",
    "print(f\"Training Set : {train_features.shape}\\nTesting Set : {test_features.shape}\")"
   ]
  },
  {
   "cell_type": "markdown",
   "id": "47289b78",
   "metadata": {
    "papermill": {
     "duration": 0.012965,
     "end_time": "2025-03-07T15:26:22.464001",
     "exception": false,
     "start_time": "2025-03-07T15:26:22.451036",
     "status": "completed"
    },
    "tags": []
   },
   "source": [
    "**model algorithm**"
   ]
  },
  {
   "cell_type": "markdown",
   "id": "1d389b2e",
   "metadata": {
    "papermill": {
     "duration": 0.012683,
     "end_time": "2025-03-07T15:26:22.489774",
     "exception": false,
     "start_time": "2025-03-07T15:26:22.477091",
     "status": "completed"
    },
    "tags": []
   },
   "source": [
    "Training and Testing on different Machine Learning Algorithms for the best algorithm to choose from"
   ]
  },
  {
   "cell_type": "code",
   "execution_count": 20,
   "id": "05f8a032",
   "metadata": {
    "execution": {
     "iopub.execute_input": "2025-03-07T15:26:22.518382Z",
     "iopub.status.busy": "2025-03-07T15:26:22.518004Z",
     "iopub.status.idle": "2025-03-07T15:26:22.522244Z",
     "shell.execute_reply": "2025-03-07T15:26:22.521073Z"
    },
    "papermill": {
     "duration": 0.021019,
     "end_time": "2025-03-07T15:26:22.524073",
     "exception": false,
     "start_time": "2025-03-07T15:26:22.503054",
     "status": "completed"
    },
    "tags": []
   },
   "outputs": [],
   "source": [
    "models = dict()"
   ]
  },
  {
   "cell_type": "markdown",
   "id": "984945d7",
   "metadata": {
    "papermill": {
     "duration": 0.013038,
     "end_time": "2025-03-07T15:26:22.550778",
     "exception": false,
     "start_time": "2025-03-07T15:26:22.537740",
     "status": "completed"
    },
    "tags": []
   },
   "source": [
    "decison tree\n"
   ]
  },
  {
   "cell_type": "code",
   "execution_count": 21,
   "id": "ca78c9cc",
   "metadata": {
    "execution": {
     "iopub.execute_input": "2025-03-07T15:26:22.578764Z",
     "iopub.status.busy": "2025-03-07T15:26:22.578315Z",
     "iopub.status.idle": "2025-03-07T15:26:23.061291Z",
     "shell.execute_reply": "2025-03-07T15:26:23.060220Z"
    },
    "papermill": {
     "duration": 0.499154,
     "end_time": "2025-03-07T15:26:23.063152",
     "exception": false,
     "start_time": "2025-03-07T15:26:22.563998",
     "status": "completed"
    },
    "tags": []
   },
   "outputs": [
    {
     "data": {
      "text/html": [
       "<style>#sk-container-id-1 {color: black;background-color: white;}#sk-container-id-1 pre{padding: 0;}#sk-container-id-1 div.sk-toggleable {background-color: white;}#sk-container-id-1 label.sk-toggleable__label {cursor: pointer;display: block;width: 100%;margin-bottom: 0;padding: 0.3em;box-sizing: border-box;text-align: center;}#sk-container-id-1 label.sk-toggleable__label-arrow:before {content: \"▸\";float: left;margin-right: 0.25em;color: #696969;}#sk-container-id-1 label.sk-toggleable__label-arrow:hover:before {color: black;}#sk-container-id-1 div.sk-estimator:hover label.sk-toggleable__label-arrow:before {color: black;}#sk-container-id-1 div.sk-toggleable__content {max-height: 0;max-width: 0;overflow: hidden;text-align: left;background-color: #f0f8ff;}#sk-container-id-1 div.sk-toggleable__content pre {margin: 0.2em;color: black;border-radius: 0.25em;background-color: #f0f8ff;}#sk-container-id-1 input.sk-toggleable__control:checked~div.sk-toggleable__content {max-height: 200px;max-width: 100%;overflow: auto;}#sk-container-id-1 input.sk-toggleable__control:checked~label.sk-toggleable__label-arrow:before {content: \"▾\";}#sk-container-id-1 div.sk-estimator input.sk-toggleable__control:checked~label.sk-toggleable__label {background-color: #d4ebff;}#sk-container-id-1 div.sk-label input.sk-toggleable__control:checked~label.sk-toggleable__label {background-color: #d4ebff;}#sk-container-id-1 input.sk-hidden--visually {border: 0;clip: rect(1px 1px 1px 1px);clip: rect(1px, 1px, 1px, 1px);height: 1px;margin: -1px;overflow: hidden;padding: 0;position: absolute;width: 1px;}#sk-container-id-1 div.sk-estimator {font-family: monospace;background-color: #f0f8ff;border: 1px dotted black;border-radius: 0.25em;box-sizing: border-box;margin-bottom: 0.5em;}#sk-container-id-1 div.sk-estimator:hover {background-color: #d4ebff;}#sk-container-id-1 div.sk-parallel-item::after {content: \"\";width: 100%;border-bottom: 1px solid gray;flex-grow: 1;}#sk-container-id-1 div.sk-label:hover label.sk-toggleable__label {background-color: #d4ebff;}#sk-container-id-1 div.sk-serial::before {content: \"\";position: absolute;border-left: 1px solid gray;box-sizing: border-box;top: 0;bottom: 0;left: 50%;z-index: 0;}#sk-container-id-1 div.sk-serial {display: flex;flex-direction: column;align-items: center;background-color: white;padding-right: 0.2em;padding-left: 0.2em;position: relative;}#sk-container-id-1 div.sk-item {position: relative;z-index: 1;}#sk-container-id-1 div.sk-parallel {display: flex;align-items: stretch;justify-content: center;background-color: white;position: relative;}#sk-container-id-1 div.sk-item::before, #sk-container-id-1 div.sk-parallel-item::before {content: \"\";position: absolute;border-left: 1px solid gray;box-sizing: border-box;top: 0;bottom: 0;left: 50%;z-index: -1;}#sk-container-id-1 div.sk-parallel-item {display: flex;flex-direction: column;z-index: 1;position: relative;background-color: white;}#sk-container-id-1 div.sk-parallel-item:first-child::after {align-self: flex-end;width: 50%;}#sk-container-id-1 div.sk-parallel-item:last-child::after {align-self: flex-start;width: 50%;}#sk-container-id-1 div.sk-parallel-item:only-child::after {width: 0;}#sk-container-id-1 div.sk-dashed-wrapped {border: 1px dashed gray;margin: 0 0.4em 0.5em 0.4em;box-sizing: border-box;padding-bottom: 0.4em;background-color: white;}#sk-container-id-1 div.sk-label label {font-family: monospace;font-weight: bold;display: inline-block;line-height: 1.2em;}#sk-container-id-1 div.sk-label-container {text-align: center;}#sk-container-id-1 div.sk-container {/* jupyter's `normalize.less` sets `[hidden] { display: none; }` but bootstrap.min.css set `[hidden] { display: none !important; }` so we also need the `!important` here to be able to override the default hidden behavior on the sphinx rendered scikit-learn.org. See: https://github.com/scikit-learn/scikit-learn/issues/21755 */display: inline-block !important;position: relative;}#sk-container-id-1 div.sk-text-repr-fallback {display: none;}</style><div id=\"sk-container-id-1\" class=\"sk-top-container\"><div class=\"sk-text-repr-fallback\"><pre>DecisionTreeRegressor()</pre><b>In a Jupyter environment, please rerun this cell to show the HTML representation or trust the notebook. <br />On GitHub, the HTML representation is unable to render, please try loading this page with nbviewer.org.</b></div><div class=\"sk-container\" hidden><div class=\"sk-item\"><div class=\"sk-estimator sk-toggleable\"><input class=\"sk-toggleable__control sk-hidden--visually\" id=\"sk-estimator-id-1\" type=\"checkbox\" checked><label for=\"sk-estimator-id-1\" class=\"sk-toggleable__label sk-toggleable__label-arrow\">DecisionTreeRegressor</label><div class=\"sk-toggleable__content\"><pre>DecisionTreeRegressor()</pre></div></div></div></div></div>"
      ],
      "text/plain": [
       "DecisionTreeRegressor()"
      ]
     },
     "execution_count": 21,
     "metadata": {},
     "output_type": "execute_result"
    }
   ],
   "source": [
    "from sklearn.tree import DecisionTreeRegressor\n",
    "tree = DecisionTreeRegressor()\n",
    "# Train Model\n",
    "tree.fit(train_features, train_labels)"
   ]
  },
  {
   "cell_type": "code",
   "execution_count": 22,
   "id": "90a5c2c4",
   "metadata": {
    "execution": {
     "iopub.execute_input": "2025-03-07T15:26:23.092168Z",
     "iopub.status.busy": "2025-03-07T15:26:23.091747Z",
     "iopub.status.idle": "2025-03-07T15:26:23.124039Z",
     "shell.execute_reply": "2025-03-07T15:26:23.122697Z"
    },
    "papermill": {
     "duration": 0.049204,
     "end_time": "2025-03-07T15:26:23.125983",
     "exception": false,
     "start_time": "2025-03-07T15:26:23.076779",
     "status": "completed"
    },
    "tags": []
   },
   "outputs": [
    {
     "name": "stdout",
     "output_type": "stream",
     "text": [
      "Train Score : 99.98%\n",
      "Test Score : 86.27%\n"
     ]
    }
   ],
   "source": [
    "# Evaluate Model\n",
    "train_score_tree = str(tree.score(train_features, train_labels) * 100)\n",
    "test_score_tree = str(tree.score(test_features, test_labels) * 100)\n",
    "print(f'Train Score : {train_score_tree[:5]}%\\nTest Score : {test_score_tree[:5]}%')\n",
    "models[\"tree\"] = test_score_tree"
   ]
  },
  {
   "cell_type": "code",
   "execution_count": 23,
   "id": "987e7605",
   "metadata": {
    "execution": {
     "iopub.execute_input": "2025-03-07T15:26:23.154955Z",
     "iopub.status.busy": "2025-03-07T15:26:23.154457Z",
     "iopub.status.idle": "2025-03-07T15:26:23.175362Z",
     "shell.execute_reply": "2025-03-07T15:26:23.173853Z"
    },
    "papermill": {
     "duration": 0.037444,
     "end_time": "2025-03-07T15:26:23.177322",
     "exception": false,
     "start_time": "2025-03-07T15:26:23.139878",
     "status": "completed"
    },
    "tags": []
   },
   "outputs": [
    {
     "name": "stdout",
     "output_type": "stream",
     "text": [
      "---- Decision Tree Regressor - Model Evaluation ----\n",
      "Mean Absolute Error (MAE): 3.966404886561955\n",
      "Mean Squared Error (MSE): 126.55076664173522\n",
      "Root Mean Squared Error (RMSE): 11.24947850532349\n"
     ]
    }
   ],
   "source": [
    "from sklearn.metrics import mean_absolute_error as mae, mean_squared_error as mse\n",
    "print(\"---- Decision Tree Regressor - Model Evaluation ----\")\n",
    "print(\"Mean Absolute Error (MAE): {}\".format(mae(test_labels, tree.predict(test_features))))\n",
    "print(\"Mean Squared Error (MSE): {}\".format(mse(test_labels, tree.predict(test_features))))\n",
    "print(\"Root Mean Squared Error (RMSE): {}\".format(np.sqrt(mse(test_labels, tree.predict(test_features)))))"
   ]
  },
  {
   "cell_type": "markdown",
   "id": "a5054679",
   "metadata": {
    "papermill": {
     "duration": 0.013611,
     "end_time": "2025-03-07T15:26:23.205183",
     "exception": false,
     "start_time": "2025-03-07T15:26:23.191572",
     "status": "completed"
    },
    "tags": []
   },
   "source": [
    "linear regression"
   ]
  },
  {
   "cell_type": "code",
   "execution_count": 24,
   "id": "297a486a",
   "metadata": {
    "execution": {
     "iopub.execute_input": "2025-03-07T15:26:23.234486Z",
     "iopub.status.busy": "2025-03-07T15:26:23.234125Z",
     "iopub.status.idle": "2025-03-07T15:26:23.360966Z",
     "shell.execute_reply": "2025-03-07T15:26:23.359825Z"
    },
    "papermill": {
     "duration": 0.143791,
     "end_time": "2025-03-07T15:26:23.362865",
     "exception": false,
     "start_time": "2025-03-07T15:26:23.219074",
     "status": "completed"
    },
    "tags": []
   },
   "outputs": [
    {
     "data": {
      "text/html": [
       "<style>#sk-container-id-2 {color: black;background-color: white;}#sk-container-id-2 pre{padding: 0;}#sk-container-id-2 div.sk-toggleable {background-color: white;}#sk-container-id-2 label.sk-toggleable__label {cursor: pointer;display: block;width: 100%;margin-bottom: 0;padding: 0.3em;box-sizing: border-box;text-align: center;}#sk-container-id-2 label.sk-toggleable__label-arrow:before {content: \"▸\";float: left;margin-right: 0.25em;color: #696969;}#sk-container-id-2 label.sk-toggleable__label-arrow:hover:before {color: black;}#sk-container-id-2 div.sk-estimator:hover label.sk-toggleable__label-arrow:before {color: black;}#sk-container-id-2 div.sk-toggleable__content {max-height: 0;max-width: 0;overflow: hidden;text-align: left;background-color: #f0f8ff;}#sk-container-id-2 div.sk-toggleable__content pre {margin: 0.2em;color: black;border-radius: 0.25em;background-color: #f0f8ff;}#sk-container-id-2 input.sk-toggleable__control:checked~div.sk-toggleable__content {max-height: 200px;max-width: 100%;overflow: auto;}#sk-container-id-2 input.sk-toggleable__control:checked~label.sk-toggleable__label-arrow:before {content: \"▾\";}#sk-container-id-2 div.sk-estimator input.sk-toggleable__control:checked~label.sk-toggleable__label {background-color: #d4ebff;}#sk-container-id-2 div.sk-label input.sk-toggleable__control:checked~label.sk-toggleable__label {background-color: #d4ebff;}#sk-container-id-2 input.sk-hidden--visually {border: 0;clip: rect(1px 1px 1px 1px);clip: rect(1px, 1px, 1px, 1px);height: 1px;margin: -1px;overflow: hidden;padding: 0;position: absolute;width: 1px;}#sk-container-id-2 div.sk-estimator {font-family: monospace;background-color: #f0f8ff;border: 1px dotted black;border-radius: 0.25em;box-sizing: border-box;margin-bottom: 0.5em;}#sk-container-id-2 div.sk-estimator:hover {background-color: #d4ebff;}#sk-container-id-2 div.sk-parallel-item::after {content: \"\";width: 100%;border-bottom: 1px solid gray;flex-grow: 1;}#sk-container-id-2 div.sk-label:hover label.sk-toggleable__label {background-color: #d4ebff;}#sk-container-id-2 div.sk-serial::before {content: \"\";position: absolute;border-left: 1px solid gray;box-sizing: border-box;top: 0;bottom: 0;left: 50%;z-index: 0;}#sk-container-id-2 div.sk-serial {display: flex;flex-direction: column;align-items: center;background-color: white;padding-right: 0.2em;padding-left: 0.2em;position: relative;}#sk-container-id-2 div.sk-item {position: relative;z-index: 1;}#sk-container-id-2 div.sk-parallel {display: flex;align-items: stretch;justify-content: center;background-color: white;position: relative;}#sk-container-id-2 div.sk-item::before, #sk-container-id-2 div.sk-parallel-item::before {content: \"\";position: absolute;border-left: 1px solid gray;box-sizing: border-box;top: 0;bottom: 0;left: 50%;z-index: -1;}#sk-container-id-2 div.sk-parallel-item {display: flex;flex-direction: column;z-index: 1;position: relative;background-color: white;}#sk-container-id-2 div.sk-parallel-item:first-child::after {align-self: flex-end;width: 50%;}#sk-container-id-2 div.sk-parallel-item:last-child::after {align-self: flex-start;width: 50%;}#sk-container-id-2 div.sk-parallel-item:only-child::after {width: 0;}#sk-container-id-2 div.sk-dashed-wrapped {border: 1px dashed gray;margin: 0 0.4em 0.5em 0.4em;box-sizing: border-box;padding-bottom: 0.4em;background-color: white;}#sk-container-id-2 div.sk-label label {font-family: monospace;font-weight: bold;display: inline-block;line-height: 1.2em;}#sk-container-id-2 div.sk-label-container {text-align: center;}#sk-container-id-2 div.sk-container {/* jupyter's `normalize.less` sets `[hidden] { display: none; }` but bootstrap.min.css set `[hidden] { display: none !important; }` so we also need the `!important` here to be able to override the default hidden behavior on the sphinx rendered scikit-learn.org. See: https://github.com/scikit-learn/scikit-learn/issues/21755 */display: inline-block !important;position: relative;}#sk-container-id-2 div.sk-text-repr-fallback {display: none;}</style><div id=\"sk-container-id-2\" class=\"sk-top-container\"><div class=\"sk-text-repr-fallback\"><pre>LinearRegression()</pre><b>In a Jupyter environment, please rerun this cell to show the HTML representation or trust the notebook. <br />On GitHub, the HTML representation is unable to render, please try loading this page with nbviewer.org.</b></div><div class=\"sk-container\" hidden><div class=\"sk-item\"><div class=\"sk-estimator sk-toggleable\"><input class=\"sk-toggleable__control sk-hidden--visually\" id=\"sk-estimator-id-2\" type=\"checkbox\" checked><label for=\"sk-estimator-id-2\" class=\"sk-toggleable__label sk-toggleable__label-arrow\">LinearRegression</label><div class=\"sk-toggleable__content\"><pre>LinearRegression()</pre></div></div></div></div></div>"
      ],
      "text/plain": [
       "LinearRegression()"
      ]
     },
     "execution_count": 24,
     "metadata": {},
     "output_type": "execute_result"
    }
   ],
   "source": [
    "from sklearn.linear_model import LinearRegression\n",
    "linreg = LinearRegression()\n",
    "# Train Model\n",
    "linreg.fit(train_features, train_labels)"
   ]
  },
  {
   "cell_type": "code",
   "execution_count": 25,
   "id": "06be478a",
   "metadata": {
    "execution": {
     "iopub.execute_input": "2025-03-07T15:26:23.393565Z",
     "iopub.status.busy": "2025-03-07T15:26:23.393139Z",
     "iopub.status.idle": "2025-03-07T15:26:23.409240Z",
     "shell.execute_reply": "2025-03-07T15:26:23.408063Z"
    },
    "papermill": {
     "duration": 0.033391,
     "end_time": "2025-03-07T15:26:23.411239",
     "exception": false,
     "start_time": "2025-03-07T15:26:23.377848",
     "status": "completed"
    },
    "tags": []
   },
   "outputs": [
    {
     "name": "stdout",
     "output_type": "stream",
     "text": [
      "Train Score : 66.03%\n",
      "Test Score : 65.45%\n"
     ]
    }
   ],
   "source": [
    "# Evaluate Model\n",
    "train_score_linreg = str(linreg.score(train_features, train_labels) * 100)\n",
    "test_score_linreg = str(linreg.score(test_features, test_labels) * 100)\n",
    "print(f'Train Score : {train_score_linreg[:5]}%\\nTest Score : {test_score_linreg[:5]}%')\n",
    "models[\"linreg\"] = test_score_linreg"
   ]
  },
  {
   "cell_type": "code",
   "execution_count": 26,
   "id": "f4a59f96",
   "metadata": {
    "execution": {
     "iopub.execute_input": "2025-03-07T15:26:23.440676Z",
     "iopub.status.busy": "2025-03-07T15:26:23.440286Z",
     "iopub.status.idle": "2025-03-07T15:26:23.454914Z",
     "shell.execute_reply": "2025-03-07T15:26:23.453489Z"
    },
    "papermill": {
     "duration": 0.031341,
     "end_time": "2025-03-07T15:26:23.456878",
     "exception": false,
     "start_time": "2025-03-07T15:26:23.425537",
     "status": "completed"
    },
    "tags": []
   },
   "outputs": [
    {
     "name": "stdout",
     "output_type": "stream",
     "text": [
      "---- Linear Regression - Model Evaluation ----\n",
      "Mean Absolute Error (MAE): 13.315422809442003\n",
      "Mean Squared Error (MSE): 318.6012096755435\n",
      "Root Mean Squared Error (RMSE): 17.849403622405525\n"
     ]
    }
   ],
   "source": [
    "print(\"---- Linear Regression - Model Evaluation ----\")\n",
    "print(\"Mean Absolute Error (MAE): {}\".format(mae(test_labels, linreg.predict(test_features))))\n",
    "print(\"Mean Squared Error (MSE): {}\".format(mse(test_labels, linreg.predict(test_features))))\n",
    "print(\"Root Mean Squared Error (RMSE): {}\".format(np.sqrt(mse(test_labels, linreg.predict(test_features)))))"
   ]
  },
  {
   "cell_type": "markdown",
   "id": "ffe17298",
   "metadata": {
    "papermill": {
     "duration": 0.013685,
     "end_time": "2025-03-07T15:26:23.485614",
     "exception": false,
     "start_time": "2025-03-07T15:26:23.471929",
     "status": "completed"
    },
    "tags": []
   },
   "source": [
    "random forest regression"
   ]
  },
  {
   "cell_type": "code",
   "execution_count": 27,
   "id": "0a25755f",
   "metadata": {
    "execution": {
     "iopub.execute_input": "2025-03-07T15:26:23.515662Z",
     "iopub.status.busy": "2025-03-07T15:26:23.515257Z",
     "iopub.status.idle": "2025-03-07T15:26:34.758397Z",
     "shell.execute_reply": "2025-03-07T15:26:34.757199Z"
    },
    "papermill": {
     "duration": 11.260096,
     "end_time": "2025-03-07T15:26:34.760305",
     "exception": false,
     "start_time": "2025-03-07T15:26:23.500209",
     "status": "completed"
    },
    "tags": []
   },
   "outputs": [
    {
     "data": {
      "text/html": [
       "<style>#sk-container-id-3 {color: black;background-color: white;}#sk-container-id-3 pre{padding: 0;}#sk-container-id-3 div.sk-toggleable {background-color: white;}#sk-container-id-3 label.sk-toggleable__label {cursor: pointer;display: block;width: 100%;margin-bottom: 0;padding: 0.3em;box-sizing: border-box;text-align: center;}#sk-container-id-3 label.sk-toggleable__label-arrow:before {content: \"▸\";float: left;margin-right: 0.25em;color: #696969;}#sk-container-id-3 label.sk-toggleable__label-arrow:hover:before {color: black;}#sk-container-id-3 div.sk-estimator:hover label.sk-toggleable__label-arrow:before {color: black;}#sk-container-id-3 div.sk-toggleable__content {max-height: 0;max-width: 0;overflow: hidden;text-align: left;background-color: #f0f8ff;}#sk-container-id-3 div.sk-toggleable__content pre {margin: 0.2em;color: black;border-radius: 0.25em;background-color: #f0f8ff;}#sk-container-id-3 input.sk-toggleable__control:checked~div.sk-toggleable__content {max-height: 200px;max-width: 100%;overflow: auto;}#sk-container-id-3 input.sk-toggleable__control:checked~label.sk-toggleable__label-arrow:before {content: \"▾\";}#sk-container-id-3 div.sk-estimator input.sk-toggleable__control:checked~label.sk-toggleable__label {background-color: #d4ebff;}#sk-container-id-3 div.sk-label input.sk-toggleable__control:checked~label.sk-toggleable__label {background-color: #d4ebff;}#sk-container-id-3 input.sk-hidden--visually {border: 0;clip: rect(1px 1px 1px 1px);clip: rect(1px, 1px, 1px, 1px);height: 1px;margin: -1px;overflow: hidden;padding: 0;position: absolute;width: 1px;}#sk-container-id-3 div.sk-estimator {font-family: monospace;background-color: #f0f8ff;border: 1px dotted black;border-radius: 0.25em;box-sizing: border-box;margin-bottom: 0.5em;}#sk-container-id-3 div.sk-estimator:hover {background-color: #d4ebff;}#sk-container-id-3 div.sk-parallel-item::after {content: \"\";width: 100%;border-bottom: 1px solid gray;flex-grow: 1;}#sk-container-id-3 div.sk-label:hover label.sk-toggleable__label {background-color: #d4ebff;}#sk-container-id-3 div.sk-serial::before {content: \"\";position: absolute;border-left: 1px solid gray;box-sizing: border-box;top: 0;bottom: 0;left: 50%;z-index: 0;}#sk-container-id-3 div.sk-serial {display: flex;flex-direction: column;align-items: center;background-color: white;padding-right: 0.2em;padding-left: 0.2em;position: relative;}#sk-container-id-3 div.sk-item {position: relative;z-index: 1;}#sk-container-id-3 div.sk-parallel {display: flex;align-items: stretch;justify-content: center;background-color: white;position: relative;}#sk-container-id-3 div.sk-item::before, #sk-container-id-3 div.sk-parallel-item::before {content: \"\";position: absolute;border-left: 1px solid gray;box-sizing: border-box;top: 0;bottom: 0;left: 50%;z-index: -1;}#sk-container-id-3 div.sk-parallel-item {display: flex;flex-direction: column;z-index: 1;position: relative;background-color: white;}#sk-container-id-3 div.sk-parallel-item:first-child::after {align-self: flex-end;width: 50%;}#sk-container-id-3 div.sk-parallel-item:last-child::after {align-self: flex-start;width: 50%;}#sk-container-id-3 div.sk-parallel-item:only-child::after {width: 0;}#sk-container-id-3 div.sk-dashed-wrapped {border: 1px dashed gray;margin: 0 0.4em 0.5em 0.4em;box-sizing: border-box;padding-bottom: 0.4em;background-color: white;}#sk-container-id-3 div.sk-label label {font-family: monospace;font-weight: bold;display: inline-block;line-height: 1.2em;}#sk-container-id-3 div.sk-label-container {text-align: center;}#sk-container-id-3 div.sk-container {/* jupyter's `normalize.less` sets `[hidden] { display: none; }` but bootstrap.min.css set `[hidden] { display: none !important; }` so we also need the `!important` here to be able to override the default hidden behavior on the sphinx rendered scikit-learn.org. See: https://github.com/scikit-learn/scikit-learn/issues/21755 */display: inline-block !important;position: relative;}#sk-container-id-3 div.sk-text-repr-fallback {display: none;}</style><div id=\"sk-container-id-3\" class=\"sk-top-container\"><div class=\"sk-text-repr-fallback\"><pre>RandomForestRegressor()</pre><b>In a Jupyter environment, please rerun this cell to show the HTML representation or trust the notebook. <br />On GitHub, the HTML representation is unable to render, please try loading this page with nbviewer.org.</b></div><div class=\"sk-container\" hidden><div class=\"sk-item\"><div class=\"sk-estimator sk-toggleable\"><input class=\"sk-toggleable__control sk-hidden--visually\" id=\"sk-estimator-id-3\" type=\"checkbox\" checked><label for=\"sk-estimator-id-3\" class=\"sk-toggleable__label sk-toggleable__label-arrow\">RandomForestRegressor</label><div class=\"sk-toggleable__content\"><pre>RandomForestRegressor()</pre></div></div></div></div></div>"
      ],
      "text/plain": [
       "RandomForestRegressor()"
      ]
     },
     "execution_count": 27,
     "metadata": {},
     "output_type": "execute_result"
    }
   ],
   "source": [
    "from sklearn.ensemble import RandomForestRegressor\n",
    "forest = RandomForestRegressor()\n",
    "# Train Model\n",
    "forest.fit(train_features, train_labels)"
   ]
  },
  {
   "cell_type": "code",
   "execution_count": 28,
   "id": "244297d1",
   "metadata": {
    "execution": {
     "iopub.execute_input": "2025-03-07T15:26:34.791773Z",
     "iopub.status.busy": "2025-03-07T15:26:34.791364Z",
     "iopub.status.idle": "2025-03-07T15:26:35.714999Z",
     "shell.execute_reply": "2025-03-07T15:26:35.713711Z"
    },
    "papermill": {
     "duration": 0.940998,
     "end_time": "2025-03-07T15:26:35.716681",
     "exception": false,
     "start_time": "2025-03-07T15:26:34.775683",
     "status": "completed"
    },
    "tags": []
   },
   "outputs": [
    {
     "name": "stdout",
     "output_type": "stream",
     "text": [
      "Train Score : 99.02%\n",
      "Test Score : 93.43%\n"
     ]
    }
   ],
   "source": [
    "# Evaluate Model\n",
    "train_score_forest = str(forest.score(train_features, train_labels)*100)\n",
    "test_score_forest = str(forest.score(test_features, test_labels)*100)\n",
    "print(f'Train Score : {train_score_forest[:5]}%\\nTest Score : {test_score_forest[:5]}%')\n",
    "models[\"forest\"] = test_score_forest"
   ]
  },
  {
   "cell_type": "code",
   "execution_count": 29,
   "id": "9b59c2e3",
   "metadata": {
    "execution": {
     "iopub.execute_input": "2025-03-07T15:26:35.746460Z",
     "iopub.status.busy": "2025-03-07T15:26:35.746093Z",
     "iopub.status.idle": "2025-03-07T15:26:36.372255Z",
     "shell.execute_reply": "2025-03-07T15:26:36.370772Z"
    },
    "papermill": {
     "duration": 0.642938,
     "end_time": "2025-03-07T15:26:36.374065",
     "exception": false,
     "start_time": "2025-03-07T15:26:35.731127",
     "status": "completed"
    },
    "tags": []
   },
   "outputs": [
    {
     "name": "stdout",
     "output_type": "stream",
     "text": [
      "---- Random Forest Regression - Model Evaluation ----\n",
      "Mean Absolute Error (MAE): 4.486289919981954\n",
      "Mean Squared Error (MSE): 60.58605622675405\n",
      "Root Mean Squared Error (RMSE): 7.783704531054224\n"
     ]
    }
   ],
   "source": [
    "print(\"---- Random Forest Regression - Model Evaluation ----\")\n",
    "print(\"Mean Absolute Error (MAE): {}\".format(mae(test_labels, forest.predict(test_features))))\n",
    "print(\"Mean Squared Error (MSE): {}\".format(mse(test_labels, forest.predict(test_features))))\n",
    "print(\"Root Mean Squared Error (RMSE): {}\".format(np.sqrt(mse(test_labels, forest.predict(test_features)))))"
   ]
  },
  {
   "cell_type": "markdown",
   "id": "ead077a0",
   "metadata": {
    "papermill": {
     "duration": 0.014264,
     "end_time": "2025-03-07T15:26:36.402744",
     "exception": false,
     "start_time": "2025-03-07T15:26:36.388480",
     "status": "completed"
    },
    "tags": []
   },
   "source": [
    "lasso regression"
   ]
  },
  {
   "cell_type": "code",
   "execution_count": 30,
   "id": "8aadae62",
   "metadata": {
    "execution": {
     "iopub.execute_input": "2025-03-07T15:26:36.433156Z",
     "iopub.status.busy": "2025-03-07T15:26:36.432664Z",
     "iopub.status.idle": "2025-03-07T15:26:36.849547Z",
     "shell.execute_reply": "2025-03-07T15:26:36.848417Z"
    },
    "papermill": {
     "duration": 0.43423,
     "end_time": "2025-03-07T15:26:36.851410",
     "exception": false,
     "start_time": "2025-03-07T15:26:36.417180",
     "status": "completed"
    },
    "tags": []
   },
   "outputs": [
    {
     "data": {
      "text/html": [
       "<style>#sk-container-id-4 {color: black;background-color: white;}#sk-container-id-4 pre{padding: 0;}#sk-container-id-4 div.sk-toggleable {background-color: white;}#sk-container-id-4 label.sk-toggleable__label {cursor: pointer;display: block;width: 100%;margin-bottom: 0;padding: 0.3em;box-sizing: border-box;text-align: center;}#sk-container-id-4 label.sk-toggleable__label-arrow:before {content: \"▸\";float: left;margin-right: 0.25em;color: #696969;}#sk-container-id-4 label.sk-toggleable__label-arrow:hover:before {color: black;}#sk-container-id-4 div.sk-estimator:hover label.sk-toggleable__label-arrow:before {color: black;}#sk-container-id-4 div.sk-toggleable__content {max-height: 0;max-width: 0;overflow: hidden;text-align: left;background-color: #f0f8ff;}#sk-container-id-4 div.sk-toggleable__content pre {margin: 0.2em;color: black;border-radius: 0.25em;background-color: #f0f8ff;}#sk-container-id-4 input.sk-toggleable__control:checked~div.sk-toggleable__content {max-height: 200px;max-width: 100%;overflow: auto;}#sk-container-id-4 input.sk-toggleable__control:checked~label.sk-toggleable__label-arrow:before {content: \"▾\";}#sk-container-id-4 div.sk-estimator input.sk-toggleable__control:checked~label.sk-toggleable__label {background-color: #d4ebff;}#sk-container-id-4 div.sk-label input.sk-toggleable__control:checked~label.sk-toggleable__label {background-color: #d4ebff;}#sk-container-id-4 input.sk-hidden--visually {border: 0;clip: rect(1px 1px 1px 1px);clip: rect(1px, 1px, 1px, 1px);height: 1px;margin: -1px;overflow: hidden;padding: 0;position: absolute;width: 1px;}#sk-container-id-4 div.sk-estimator {font-family: monospace;background-color: #f0f8ff;border: 1px dotted black;border-radius: 0.25em;box-sizing: border-box;margin-bottom: 0.5em;}#sk-container-id-4 div.sk-estimator:hover {background-color: #d4ebff;}#sk-container-id-4 div.sk-parallel-item::after {content: \"\";width: 100%;border-bottom: 1px solid gray;flex-grow: 1;}#sk-container-id-4 div.sk-label:hover label.sk-toggleable__label {background-color: #d4ebff;}#sk-container-id-4 div.sk-serial::before {content: \"\";position: absolute;border-left: 1px solid gray;box-sizing: border-box;top: 0;bottom: 0;left: 50%;z-index: 0;}#sk-container-id-4 div.sk-serial {display: flex;flex-direction: column;align-items: center;background-color: white;padding-right: 0.2em;padding-left: 0.2em;position: relative;}#sk-container-id-4 div.sk-item {position: relative;z-index: 1;}#sk-container-id-4 div.sk-parallel {display: flex;align-items: stretch;justify-content: center;background-color: white;position: relative;}#sk-container-id-4 div.sk-item::before, #sk-container-id-4 div.sk-parallel-item::before {content: \"\";position: absolute;border-left: 1px solid gray;box-sizing: border-box;top: 0;bottom: 0;left: 50%;z-index: -1;}#sk-container-id-4 div.sk-parallel-item {display: flex;flex-direction: column;z-index: 1;position: relative;background-color: white;}#sk-container-id-4 div.sk-parallel-item:first-child::after {align-self: flex-end;width: 50%;}#sk-container-id-4 div.sk-parallel-item:last-child::after {align-self: flex-start;width: 50%;}#sk-container-id-4 div.sk-parallel-item:only-child::after {width: 0;}#sk-container-id-4 div.sk-dashed-wrapped {border: 1px dashed gray;margin: 0 0.4em 0.5em 0.4em;box-sizing: border-box;padding-bottom: 0.4em;background-color: white;}#sk-container-id-4 div.sk-label label {font-family: monospace;font-weight: bold;display: inline-block;line-height: 1.2em;}#sk-container-id-4 div.sk-label-container {text-align: center;}#sk-container-id-4 div.sk-container {/* jupyter's `normalize.less` sets `[hidden] { display: none; }` but bootstrap.min.css set `[hidden] { display: none !important; }` so we also need the `!important` here to be able to override the default hidden behavior on the sphinx rendered scikit-learn.org. See: https://github.com/scikit-learn/scikit-learn/issues/21755 */display: inline-block !important;position: relative;}#sk-container-id-4 div.sk-text-repr-fallback {display: none;}</style><div id=\"sk-container-id-4\" class=\"sk-top-container\"><div class=\"sk-text-repr-fallback\"><pre>LassoCV()</pre><b>In a Jupyter environment, please rerun this cell to show the HTML representation or trust the notebook. <br />On GitHub, the HTML representation is unable to render, please try loading this page with nbviewer.org.</b></div><div class=\"sk-container\" hidden><div class=\"sk-item\"><div class=\"sk-estimator sk-toggleable\"><input class=\"sk-toggleable__control sk-hidden--visually\" id=\"sk-estimator-id-4\" type=\"checkbox\" checked><label for=\"sk-estimator-id-4\" class=\"sk-toggleable__label sk-toggleable__label-arrow\">LassoCV</label><div class=\"sk-toggleable__content\"><pre>LassoCV()</pre></div></div></div></div></div>"
      ],
      "text/plain": [
       "LassoCV()"
      ]
     },
     "execution_count": 30,
     "metadata": {},
     "output_type": "execute_result"
    }
   ],
   "source": [
    "from sklearn.linear_model import LassoCV\n",
    "lasso = LassoCV()\n",
    "# Train Model\n",
    "lasso.fit(train_features, train_labels)"
   ]
  },
  {
   "cell_type": "code",
   "execution_count": 31,
   "id": "6acca306",
   "metadata": {
    "execution": {
     "iopub.execute_input": "2025-03-07T15:26:36.884027Z",
     "iopub.status.busy": "2025-03-07T15:26:36.883633Z",
     "iopub.status.idle": "2025-03-07T15:26:36.897385Z",
     "shell.execute_reply": "2025-03-07T15:26:36.896279Z"
    },
    "papermill": {
     "duration": 0.031018,
     "end_time": "2025-03-07T15:26:36.899203",
     "exception": false,
     "start_time": "2025-03-07T15:26:36.868185",
     "status": "completed"
    },
    "tags": []
   },
   "outputs": [
    {
     "name": "stdout",
     "output_type": "stream",
     "text": [
      "Train Score : 65.04%\n",
      "Test Score : 64.61%\n"
     ]
    }
   ],
   "source": [
    "# Evaluate Model\n",
    "train_score_lasso = str(lasso.score(train_features, train_labels)*100)\n",
    "test_score_lasso = str(lasso.score(test_features, test_labels)*100)\n",
    "print(f'Train Score : {train_score_lasso[:5]}%\\nTest Score : {test_score_lasso[:5]}%')\n",
    "models[\"lasso\"] = test_score_lasso"
   ]
  },
  {
   "cell_type": "code",
   "execution_count": 32,
   "id": "695180d0",
   "metadata": {
    "execution": {
     "iopub.execute_input": "2025-03-07T15:26:36.930784Z",
     "iopub.status.busy": "2025-03-07T15:26:36.930398Z",
     "iopub.status.idle": "2025-03-07T15:26:36.944664Z",
     "shell.execute_reply": "2025-03-07T15:26:36.943470Z"
    },
    "papermill": {
     "duration": 0.032496,
     "end_time": "2025-03-07T15:26:36.946596",
     "exception": false,
     "start_time": "2025-03-07T15:26:36.914100",
     "status": "completed"
    },
    "tags": []
   },
   "outputs": [
    {
     "name": "stdout",
     "output_type": "stream",
     "text": [
      "---- Lasso Regression - Model Evaluation ----\n",
      "Mean Absolute Error (MAE): 13.33414882505518\n",
      "Mean Squared Error (MSE): 326.3669846501142\n",
      "Root Mean Squared Error (RMSE): 18.065629926745267\n"
     ]
    }
   ],
   "source": [
    "print(\"---- Lasso Regression - Model Evaluation ----\")\n",
    "print(\"Mean Absolute Error (MAE): {}\".format(mae(test_labels, lasso.predict(test_features))))\n",
    "print(\"Mean Squared Error (MSE): {}\".format(mse(test_labels, lasso.predict(test_features))))\n",
    "print(\"Root Mean Squared Error (RMSE): {}\".format(np.sqrt(mse(test_labels, lasso.predict(test_features)))))"
   ]
  },
  {
   "cell_type": "markdown",
   "id": "6ef5860c",
   "metadata": {
    "papermill": {
     "duration": 0.014281,
     "end_time": "2025-03-07T15:26:36.978495",
     "exception": false,
     "start_time": "2025-03-07T15:26:36.964214",
     "status": "completed"
    },
    "tags": []
   },
   "source": [
    "support vector machine"
   ]
  },
  {
   "cell_type": "code",
   "execution_count": 33,
   "id": "9638375d",
   "metadata": {
    "execution": {
     "iopub.execute_input": "2025-03-07T15:26:37.008729Z",
     "iopub.status.busy": "2025-03-07T15:26:37.008303Z",
     "iopub.status.idle": "2025-03-07T15:27:38.295296Z",
     "shell.execute_reply": "2025-03-07T15:27:38.294144Z"
    },
    "papermill": {
     "duration": 61.382007,
     "end_time": "2025-03-07T15:27:38.374904",
     "exception": false,
     "start_time": "2025-03-07T15:26:36.992897",
     "status": "completed"
    },
    "tags": []
   },
   "outputs": [
    {
     "data": {
      "text/html": [
       "<style>#sk-container-id-5 {color: black;background-color: white;}#sk-container-id-5 pre{padding: 0;}#sk-container-id-5 div.sk-toggleable {background-color: white;}#sk-container-id-5 label.sk-toggleable__label {cursor: pointer;display: block;width: 100%;margin-bottom: 0;padding: 0.3em;box-sizing: border-box;text-align: center;}#sk-container-id-5 label.sk-toggleable__label-arrow:before {content: \"▸\";float: left;margin-right: 0.25em;color: #696969;}#sk-container-id-5 label.sk-toggleable__label-arrow:hover:before {color: black;}#sk-container-id-5 div.sk-estimator:hover label.sk-toggleable__label-arrow:before {color: black;}#sk-container-id-5 div.sk-toggleable__content {max-height: 0;max-width: 0;overflow: hidden;text-align: left;background-color: #f0f8ff;}#sk-container-id-5 div.sk-toggleable__content pre {margin: 0.2em;color: black;border-radius: 0.25em;background-color: #f0f8ff;}#sk-container-id-5 input.sk-toggleable__control:checked~div.sk-toggleable__content {max-height: 200px;max-width: 100%;overflow: auto;}#sk-container-id-5 input.sk-toggleable__control:checked~label.sk-toggleable__label-arrow:before {content: \"▾\";}#sk-container-id-5 div.sk-estimator input.sk-toggleable__control:checked~label.sk-toggleable__label {background-color: #d4ebff;}#sk-container-id-5 div.sk-label input.sk-toggleable__control:checked~label.sk-toggleable__label {background-color: #d4ebff;}#sk-container-id-5 input.sk-hidden--visually {border: 0;clip: rect(1px 1px 1px 1px);clip: rect(1px, 1px, 1px, 1px);height: 1px;margin: -1px;overflow: hidden;padding: 0;position: absolute;width: 1px;}#sk-container-id-5 div.sk-estimator {font-family: monospace;background-color: #f0f8ff;border: 1px dotted black;border-radius: 0.25em;box-sizing: border-box;margin-bottom: 0.5em;}#sk-container-id-5 div.sk-estimator:hover {background-color: #d4ebff;}#sk-container-id-5 div.sk-parallel-item::after {content: \"\";width: 100%;border-bottom: 1px solid gray;flex-grow: 1;}#sk-container-id-5 div.sk-label:hover label.sk-toggleable__label {background-color: #d4ebff;}#sk-container-id-5 div.sk-serial::before {content: \"\";position: absolute;border-left: 1px solid gray;box-sizing: border-box;top: 0;bottom: 0;left: 50%;z-index: 0;}#sk-container-id-5 div.sk-serial {display: flex;flex-direction: column;align-items: center;background-color: white;padding-right: 0.2em;padding-left: 0.2em;position: relative;}#sk-container-id-5 div.sk-item {position: relative;z-index: 1;}#sk-container-id-5 div.sk-parallel {display: flex;align-items: stretch;justify-content: center;background-color: white;position: relative;}#sk-container-id-5 div.sk-item::before, #sk-container-id-5 div.sk-parallel-item::before {content: \"\";position: absolute;border-left: 1px solid gray;box-sizing: border-box;top: 0;bottom: 0;left: 50%;z-index: -1;}#sk-container-id-5 div.sk-parallel-item {display: flex;flex-direction: column;z-index: 1;position: relative;background-color: white;}#sk-container-id-5 div.sk-parallel-item:first-child::after {align-self: flex-end;width: 50%;}#sk-container-id-5 div.sk-parallel-item:last-child::after {align-self: flex-start;width: 50%;}#sk-container-id-5 div.sk-parallel-item:only-child::after {width: 0;}#sk-container-id-5 div.sk-dashed-wrapped {border: 1px dashed gray;margin: 0 0.4em 0.5em 0.4em;box-sizing: border-box;padding-bottom: 0.4em;background-color: white;}#sk-container-id-5 div.sk-label label {font-family: monospace;font-weight: bold;display: inline-block;line-height: 1.2em;}#sk-container-id-5 div.sk-label-container {text-align: center;}#sk-container-id-5 div.sk-container {/* jupyter's `normalize.less` sets `[hidden] { display: none; }` but bootstrap.min.css set `[hidden] { display: none !important; }` so we also need the `!important` here to be able to override the default hidden behavior on the sphinx rendered scikit-learn.org. See: https://github.com/scikit-learn/scikit-learn/issues/21755 */display: inline-block !important;position: relative;}#sk-container-id-5 div.sk-text-repr-fallback {display: none;}</style><div id=\"sk-container-id-5\" class=\"sk-top-container\"><div class=\"sk-text-repr-fallback\"><pre>SVR()</pre><b>In a Jupyter environment, please rerun this cell to show the HTML representation or trust the notebook. <br />On GitHub, the HTML representation is unable to render, please try loading this page with nbviewer.org.</b></div><div class=\"sk-container\" hidden><div class=\"sk-item\"><div class=\"sk-estimator sk-toggleable\"><input class=\"sk-toggleable__control sk-hidden--visually\" id=\"sk-estimator-id-5\" type=\"checkbox\" checked><label for=\"sk-estimator-id-5\" class=\"sk-toggleable__label sk-toggleable__label-arrow\">SVR</label><div class=\"sk-toggleable__content\"><pre>SVR()</pre></div></div></div></div></div>"
      ],
      "text/plain": [
       "SVR()"
      ]
     },
     "execution_count": 33,
     "metadata": {},
     "output_type": "execute_result"
    }
   ],
   "source": [
    "from sklearn.svm import SVR\n",
    "svm = SVR()\n",
    "# Train Model\n",
    "svm.fit(train_features, train_labels)"
   ]
  },
  {
   "cell_type": "code",
   "execution_count": 34,
   "id": "6866c7e6",
   "metadata": {
    "execution": {
     "iopub.execute_input": "2025-03-07T15:27:38.406546Z",
     "iopub.status.busy": "2025-03-07T15:27:38.406163Z",
     "iopub.status.idle": "2025-03-07T15:31:12.407885Z",
     "shell.execute_reply": "2025-03-07T15:31:12.406660Z"
    },
    "papermill": {
     "duration": 214.036479,
     "end_time": "2025-03-07T15:31:12.426778",
     "exception": false,
     "start_time": "2025-03-07T15:27:38.390299",
     "status": "completed"
    },
    "tags": []
   },
   "outputs": [
    {
     "name": "stdout",
     "output_type": "stream",
     "text": [
      "Train Score : 57.47%\n",
      "Test Score : 57.44%\n"
     ]
    }
   ],
   "source": [
    "train_score_svm = str(svm.score(train_features, train_labels)*100)\n",
    "test_score_svm = str(svm.score(test_features, test_labels)*100)\n",
    "print(f'Train Score : {train_score_svm[:5]}%\\nTest Score : {test_score_svm[:5]}%')\n",
    "models[\"svm\"] = test_score_svm"
   ]
  },
  {
   "cell_type": "code",
   "execution_count": 35,
   "id": "7792e22a",
   "metadata": {
    "execution": {
     "iopub.execute_input": "2025-03-07T15:31:12.461707Z",
     "iopub.status.busy": "2025-03-07T15:31:12.461287Z",
     "iopub.status.idle": "2025-03-07T15:35:09.855645Z",
     "shell.execute_reply": "2025-03-07T15:35:09.853009Z"
    },
    "papermill": {
     "duration": 237.428287,
     "end_time": "2025-03-07T15:35:09.873051",
     "exception": false,
     "start_time": "2025-03-07T15:31:12.444764",
     "status": "completed"
    },
    "tags": []
   },
   "outputs": [
    {
     "name": "stdout",
     "output_type": "stream",
     "text": [
      "---- Support Vector Regression - Model Evaluation ----\n",
      "Mean Absolute Error (MAE): 14.806687347580091\n",
      "Mean Squared Error (MSE): 392.50022060590067\n",
      "Root Mean Squared Error (RMSE): 19.811618323748835\n"
     ]
    }
   ],
   "source": [
    "print(\"---- Support Vector Regression - Model Evaluation ----\")\n",
    "print(\"Mean Absolute Error (MAE): {}\".format(mae(test_labels, svm.predict(test_features))))\n",
    "print(\"Mean Squared Error (MSE): {}\".format(mse(test_labels, svm.predict(test_features))))\n",
    "print(\"Root Mean Squared Error (RMSE): {}\".format(np.sqrt(mse(test_labels, svm.predict(test_features)))))"
   ]
  },
  {
   "cell_type": "markdown",
   "id": "66ba9abf",
   "metadata": {
    "papermill": {
     "duration": 0.015424,
     "end_time": "2025-03-07T15:35:09.904765",
     "exception": false,
     "start_time": "2025-03-07T15:35:09.889341",
     "status": "completed"
    },
    "tags": []
   },
   "source": [
    "Neural networks"
   ]
  },
  {
   "cell_type": "code",
   "execution_count": 36,
   "id": "168a67df",
   "metadata": {
    "execution": {
     "iopub.execute_input": "2025-03-07T15:35:09.937769Z",
     "iopub.status.busy": "2025-03-07T15:35:09.937365Z",
     "iopub.status.idle": "2025-03-07T15:36:17.486024Z",
     "shell.execute_reply": "2025-03-07T15:36:17.484968Z"
    },
    "papermill": {
     "duration": 67.584207,
     "end_time": "2025-03-07T15:36:17.504365",
     "exception": false,
     "start_time": "2025-03-07T15:35:09.920158",
     "status": "completed"
    },
    "tags": []
   },
   "outputs": [
    {
     "name": "stderr",
     "output_type": "stream",
     "text": [
      "/usr/local/lib/python3.10/dist-packages/sklearn/neural_network/_multilayer_perceptron.py:686: ConvergenceWarning: Stochastic Optimizer: Maximum iterations (500) reached and the optimization hasn't converged yet.\n",
      "  warnings.warn(\n"
     ]
    },
    {
     "data": {
      "text/html": [
       "<style>#sk-container-id-6 {color: black;background-color: white;}#sk-container-id-6 pre{padding: 0;}#sk-container-id-6 div.sk-toggleable {background-color: white;}#sk-container-id-6 label.sk-toggleable__label {cursor: pointer;display: block;width: 100%;margin-bottom: 0;padding: 0.3em;box-sizing: border-box;text-align: center;}#sk-container-id-6 label.sk-toggleable__label-arrow:before {content: \"▸\";float: left;margin-right: 0.25em;color: #696969;}#sk-container-id-6 label.sk-toggleable__label-arrow:hover:before {color: black;}#sk-container-id-6 div.sk-estimator:hover label.sk-toggleable__label-arrow:before {color: black;}#sk-container-id-6 div.sk-toggleable__content {max-height: 0;max-width: 0;overflow: hidden;text-align: left;background-color: #f0f8ff;}#sk-container-id-6 div.sk-toggleable__content pre {margin: 0.2em;color: black;border-radius: 0.25em;background-color: #f0f8ff;}#sk-container-id-6 input.sk-toggleable__control:checked~div.sk-toggleable__content {max-height: 200px;max-width: 100%;overflow: auto;}#sk-container-id-6 input.sk-toggleable__control:checked~label.sk-toggleable__label-arrow:before {content: \"▾\";}#sk-container-id-6 div.sk-estimator input.sk-toggleable__control:checked~label.sk-toggleable__label {background-color: #d4ebff;}#sk-container-id-6 div.sk-label input.sk-toggleable__control:checked~label.sk-toggleable__label {background-color: #d4ebff;}#sk-container-id-6 input.sk-hidden--visually {border: 0;clip: rect(1px 1px 1px 1px);clip: rect(1px, 1px, 1px, 1px);height: 1px;margin: -1px;overflow: hidden;padding: 0;position: absolute;width: 1px;}#sk-container-id-6 div.sk-estimator {font-family: monospace;background-color: #f0f8ff;border: 1px dotted black;border-radius: 0.25em;box-sizing: border-box;margin-bottom: 0.5em;}#sk-container-id-6 div.sk-estimator:hover {background-color: #d4ebff;}#sk-container-id-6 div.sk-parallel-item::after {content: \"\";width: 100%;border-bottom: 1px solid gray;flex-grow: 1;}#sk-container-id-6 div.sk-label:hover label.sk-toggleable__label {background-color: #d4ebff;}#sk-container-id-6 div.sk-serial::before {content: \"\";position: absolute;border-left: 1px solid gray;box-sizing: border-box;top: 0;bottom: 0;left: 50%;z-index: 0;}#sk-container-id-6 div.sk-serial {display: flex;flex-direction: column;align-items: center;background-color: white;padding-right: 0.2em;padding-left: 0.2em;position: relative;}#sk-container-id-6 div.sk-item {position: relative;z-index: 1;}#sk-container-id-6 div.sk-parallel {display: flex;align-items: stretch;justify-content: center;background-color: white;position: relative;}#sk-container-id-6 div.sk-item::before, #sk-container-id-6 div.sk-parallel-item::before {content: \"\";position: absolute;border-left: 1px solid gray;box-sizing: border-box;top: 0;bottom: 0;left: 50%;z-index: -1;}#sk-container-id-6 div.sk-parallel-item {display: flex;flex-direction: column;z-index: 1;position: relative;background-color: white;}#sk-container-id-6 div.sk-parallel-item:first-child::after {align-self: flex-end;width: 50%;}#sk-container-id-6 div.sk-parallel-item:last-child::after {align-self: flex-start;width: 50%;}#sk-container-id-6 div.sk-parallel-item:only-child::after {width: 0;}#sk-container-id-6 div.sk-dashed-wrapped {border: 1px dashed gray;margin: 0 0.4em 0.5em 0.4em;box-sizing: border-box;padding-bottom: 0.4em;background-color: white;}#sk-container-id-6 div.sk-label label {font-family: monospace;font-weight: bold;display: inline-block;line-height: 1.2em;}#sk-container-id-6 div.sk-label-container {text-align: center;}#sk-container-id-6 div.sk-container {/* jupyter's `normalize.less` sets `[hidden] { display: none; }` but bootstrap.min.css set `[hidden] { display: none !important; }` so we also need the `!important` here to be able to override the default hidden behavior on the sphinx rendered scikit-learn.org. See: https://github.com/scikit-learn/scikit-learn/issues/21755 */display: inline-block !important;position: relative;}#sk-container-id-6 div.sk-text-repr-fallback {display: none;}</style><div id=\"sk-container-id-6\" class=\"sk-top-container\"><div class=\"sk-text-repr-fallback\"><pre>MLPRegressor(activation=&#x27;logistic&#x27;, max_iter=500)</pre><b>In a Jupyter environment, please rerun this cell to show the HTML representation or trust the notebook. <br />On GitHub, the HTML representation is unable to render, please try loading this page with nbviewer.org.</b></div><div class=\"sk-container\" hidden><div class=\"sk-item\"><div class=\"sk-estimator sk-toggleable\"><input class=\"sk-toggleable__control sk-hidden--visually\" id=\"sk-estimator-id-6\" type=\"checkbox\" checked><label for=\"sk-estimator-id-6\" class=\"sk-toggleable__label sk-toggleable__label-arrow\">MLPRegressor</label><div class=\"sk-toggleable__content\"><pre>MLPRegressor(activation=&#x27;logistic&#x27;, max_iter=500)</pre></div></div></div></div></div>"
      ],
      "text/plain": [
       "MLPRegressor(activation='logistic', max_iter=500)"
      ]
     },
     "execution_count": 36,
     "metadata": {},
     "output_type": "execute_result"
    }
   ],
   "source": [
    "from sklearn.neural_network import MLPRegressor\n",
    "neural_net = MLPRegressor(activation='logistic', max_iter=500)\n",
    "# Train Model\n",
    "neural_net.fit(train_features, train_labels)"
   ]
  },
  {
   "cell_type": "code",
   "execution_count": 37,
   "id": "b58b2d31",
   "metadata": {
    "execution": {
     "iopub.execute_input": "2025-03-07T15:36:17.536779Z",
     "iopub.status.busy": "2025-03-07T15:36:17.536378Z",
     "iopub.status.idle": "2025-03-07T15:36:17.622547Z",
     "shell.execute_reply": "2025-03-07T15:36:17.621232Z"
    },
    "papermill": {
     "duration": 0.104351,
     "end_time": "2025-03-07T15:36:17.624336",
     "exception": false,
     "start_time": "2025-03-07T15:36:17.519985",
     "status": "completed"
    },
    "tags": []
   },
   "outputs": [
    {
     "name": "stdout",
     "output_type": "stream",
     "text": [
      "Train Score : 85.51%\n",
      "Test Score : 84.47%\n"
     ]
    }
   ],
   "source": [
    "train_score_neural_net = str(neural_net.score(train_features, train_labels)*100)\n",
    "test_score_neural_net = str(neural_net.score(test_features, test_labels)*100)\n",
    "print(f'Train Score : {train_score_neural_net[:5]}%\\nTest Score : {test_score_neural_net[:5]}%')\n",
    "models[\"neural_net\"] = test_score_neural_net"
   ]
  },
  {
   "cell_type": "code",
   "execution_count": 38,
   "id": "e7591b36",
   "metadata": {
    "execution": {
     "iopub.execute_input": "2025-03-07T15:36:17.657314Z",
     "iopub.status.busy": "2025-03-07T15:36:17.656931Z",
     "iopub.status.idle": "2025-03-07T15:36:17.708895Z",
     "shell.execute_reply": "2025-03-07T15:36:17.707320Z"
    },
    "papermill": {
     "duration": 0.070037,
     "end_time": "2025-03-07T15:36:17.710741",
     "exception": false,
     "start_time": "2025-03-07T15:36:17.640704",
     "status": "completed"
    },
    "tags": []
   },
   "outputs": [
    {
     "name": "stdout",
     "output_type": "stream",
     "text": [
      "---- Neural Networks Regression - Model Evaluation ----\n",
      "Mean Absolute Error (MAE): 8.453658161173234\n",
      "Mean Squared Error (MSE): 143.22530267203186\n",
      "Root Mean Squared Error (RMSE): 11.967677413434565\n"
     ]
    }
   ],
   "source": [
    "print(\"---- Neural Networks Regression - Model Evaluation ----\")\n",
    "print(\"Mean Absolute Error (MAE): {}\".format(mae(test_labels, neural_net.predict(test_features))))\n",
    "print(\"Mean Squared Error (MSE): {}\".format(mse(test_labels, neural_net.predict(test_features))))\n",
    "print(\"Root Mean Squared Error (RMSE): {}\".format(np.sqrt(mse(test_labels, neural_net.predict(test_features)))))"
   ]
  },
  {
   "cell_type": "markdown",
   "id": "a51a97f4",
   "metadata": {
    "papermill": {
     "duration": 0.015305,
     "end_time": "2025-03-07T15:36:17.744344",
     "exception": false,
     "start_time": "2025-03-07T15:36:17.729039",
     "status": "completed"
    },
    "tags": []
   },
   "source": [
    "best model selection"
   ]
  },
  {
   "cell_type": "markdown",
   "id": "c7ee1857",
   "metadata": {
    "papermill": {
     "duration": 0.015248,
     "end_time": "2025-03-07T15:36:17.774814",
     "exception": false,
     "start_time": "2025-03-07T15:36:17.759566",
     "status": "completed"
    },
    "tags": []
   },
   "source": [
    "prediction"
   ]
  },
  {
   "cell_type": "code",
   "execution_count": 39,
   "id": "f111fe2e",
   "metadata": {
    "execution": {
     "iopub.execute_input": "2025-03-07T15:36:17.806984Z",
     "iopub.status.busy": "2025-03-07T15:36:17.806564Z",
     "iopub.status.idle": "2025-03-07T15:36:17.817438Z",
     "shell.execute_reply": "2025-03-07T15:36:17.816204Z"
    },
    "papermill": {
     "duration": 0.029374,
     "end_time": "2025-03-07T15:36:17.819305",
     "exception": false,
     "start_time": "2025-03-07T15:36:17.789931",
     "status": "completed"
    },
    "tags": []
   },
   "outputs": [],
   "source": [
    "def predict_score(batting_team, bowling_team, runs, wickets, overs, runs_last_5, wickets_last_5, model=forest):\n",
    "  prediction_array = []\n",
    "  # Batting Team\n",
    "  if batting_team == 'Chennai Super Kings':\n",
    "    prediction_array = prediction_array + [1,0,0,0,0,0,0,0]\n",
    "  elif batting_team == 'Delhi Daredevils':\n",
    "    prediction_array = prediction_array + [0,1,0,0,0,0,0,0]\n",
    "  elif batting_team == 'Kings XI Punjab':\n",
    "    prediction_array = prediction_array + [0,0,1,0,0,0,0,0]\n",
    "  elif batting_team == 'Kolkata Knight Riders':\n",
    "    prediction_array = prediction_array + [0,0,0,1,0,0,0,0]\n",
    "  elif batting_team == 'Mumbai Indians':\n",
    "    prediction_array = prediction_array + [0,0,0,0,1,0,0,0]\n",
    "  elif batting_team == 'Rajasthan Royals':\n",
    "    prediction_array = prediction_array + [0,0,0,0,0,1,0,0]\n",
    "  elif batting_team == 'Royal Challengers Bangalore':\n",
    "    prediction_array = prediction_array + [0,0,0,0,0,0,1,0]\n",
    "  elif batting_team == 'Sunrisers Hyderabad':\n",
    "    prediction_array = prediction_array + [0,0,0,0,0,0,0,1]\n",
    "  # Bowling Team\n",
    "  if bowling_team == 'Chennai Super Kings':\n",
    "    prediction_array = prediction_array + [1,0,0,0,0,0,0,0]\n",
    "  elif bowling_team == 'Delhi Daredevils':\n",
    "    prediction_array = prediction_array + [0,1,0,0,0,0,0,0]\n",
    "  elif bowling_team == 'Kings XI Punjab':\n",
    "    prediction_array = prediction_array + [0,0,1,0,0,0,0,0]\n",
    "  elif bowling_team == 'Kolkata Knight Riders':\n",
    "    prediction_array = prediction_array + [0,0,0,1,0,0,0,0]\n",
    "  elif bowling_team == 'Mumbai Indians':\n",
    "    prediction_array = prediction_array + [0,0,0,0,1,0,0,0]\n",
    "  elif bowling_team == 'Rajasthan Royals':\n",
    "    prediction_array = prediction_array + [0,0,0,0,0,1,0,0]\n",
    "  elif bowling_team == 'Royal Challengers Bangalore':\n",
    "    prediction_array = prediction_array + [0,0,0,0,0,0,1,0]\n",
    "  elif bowling_team == 'Sunrisers Hyderabad':\n",
    "    prediction_array = prediction_array + [0,0,0,0,0,0,0,1]\n",
    "  prediction_array = prediction_array + [runs, wickets, overs, runs_last_5, wickets_last_5]\n",
    "  prediction_array = np.array([prediction_array])\n",
    "  pred = model.predict(prediction_array)\n",
    "  return int(round(pred[0]))"
   ]
  },
  {
   "cell_type": "markdown",
   "id": "e4fa50f4",
   "metadata": {
    "papermill": {
     "duration": 0.015184,
     "end_time": "2025-03-07T15:36:17.850435",
     "exception": false,
     "start_time": "2025-03-07T15:36:17.835251",
     "status": "completed"
    },
    "tags": []
   },
   "source": [
    " \n",
    "Test 1\n",
    "1. Batting Team : Delhi Daredevils \n",
    "2. Bowling Team : Chennai Super Kings\n",
    "3. Final Score : 147/9\n"
   ]
  },
  {
   "cell_type": "code",
   "execution_count": 40,
   "id": "64e390c6",
   "metadata": {
    "execution": {
     "iopub.execute_input": "2025-03-07T15:36:17.883564Z",
     "iopub.status.busy": "2025-03-07T15:36:17.882976Z",
     "iopub.status.idle": "2025-03-07T15:36:17.897695Z",
     "shell.execute_reply": "2025-03-07T15:36:17.896308Z"
    },
    "papermill": {
     "duration": 0.033368,
     "end_time": "2025-03-07T15:36:17.899573",
     "exception": false,
     "start_time": "2025-03-07T15:36:17.866205",
     "status": "completed"
    },
    "tags": []
   },
   "outputs": [
    {
     "name": "stdout",
     "output_type": "stream",
     "text": [
      "Predicted Score : 147 || Actual Score : 147\n"
     ]
    },
    {
     "name": "stderr",
     "output_type": "stream",
     "text": [
      "/usr/local/lib/python3.10/dist-packages/sklearn/base.py:439: UserWarning: X does not have valid feature names, but RandomForestRegressor was fitted with feature names\n",
      "  warnings.warn(\n"
     ]
    }
   ],
   "source": [
    "batting_team='Delhi Daredevils'\n",
    "bowling_team='Chennai Super Kings'\n",
    "score = predict_score(batting_team, bowling_team, overs=10.2, runs=68, wickets=3, runs_last_5=29, wickets_last_5=1)\n",
    "print(f'Predicted Score : {score} || Actual Score : 147')"
   ]
  },
  {
   "cell_type": "markdown",
   "id": "c64def37",
   "metadata": {
    "papermill": {
     "duration": 0.015692,
     "end_time": "2025-03-07T15:36:17.931007",
     "exception": false,
     "start_time": "2025-03-07T15:36:17.915315",
     "status": "completed"
    },
    "tags": []
   },
   "source": [
    "Test 2\n",
    "*  Batting Team : Mumbai Indians\n",
    "* Bowling Team : Kings XI Punjab\n",
    "* Final Score : 176/7"
   ]
  },
  {
   "cell_type": "code",
   "execution_count": 41,
   "id": "fa6a97ac",
   "metadata": {
    "execution": {
     "iopub.execute_input": "2025-03-07T15:36:17.964184Z",
     "iopub.status.busy": "2025-03-07T15:36:17.963830Z",
     "iopub.status.idle": "2025-03-07T15:36:17.975429Z",
     "shell.execute_reply": "2025-03-07T15:36:17.974214Z"
    },
    "papermill": {
     "duration": 0.030617,
     "end_time": "2025-03-07T15:36:17.977284",
     "exception": false,
     "start_time": "2025-03-07T15:36:17.946667",
     "status": "completed"
    },
    "tags": []
   },
   "outputs": [
    {
     "name": "stdout",
     "output_type": "stream",
     "text": [
      "Predicted Score : 188 || Actual Score : 176\n"
     ]
    },
    {
     "name": "stderr",
     "output_type": "stream",
     "text": [
      "/usr/local/lib/python3.10/dist-packages/sklearn/base.py:439: UserWarning: X does not have valid feature names, but RandomForestRegressor was fitted with feature names\n",
      "  warnings.warn(\n"
     ]
    }
   ],
   "source": [
    "batting_team='Mumbai Indians'\n",
    "bowling_team='Kings XI Punjab'\n",
    "score = predict_score(batting_team, bowling_team, overs=12.3, runs=113, wickets=2, runs_last_5=55, wickets_last_5=0)\n",
    "print(f'Predicted Score : {score} || Actual Score : 176')"
   ]
  },
  {
   "cell_type": "markdown",
   "id": "386ee0c6",
   "metadata": {
    "papermill": {
     "duration": 0.015631,
     "end_time": "2025-03-07T15:36:18.008858",
     "exception": false,
     "start_time": "2025-03-07T15:36:17.993227",
     "status": "completed"
    },
    "tags": []
   },
   "source": [
    "Live* Test 1 (2020 season)\n",
    "* Batting Team : Kings XI Punjab\n",
    "* Bowling Team : Rajasthan Royals\n",
    "* Final Score : 185/4\n"
   ]
  },
  {
   "cell_type": "code",
   "execution_count": 42,
   "id": "95a119c3",
   "metadata": {
    "execution": {
     "iopub.execute_input": "2025-03-07T15:36:18.042414Z",
     "iopub.status.busy": "2025-03-07T15:36:18.042061Z",
     "iopub.status.idle": "2025-03-07T15:36:18.054064Z",
     "shell.execute_reply": "2025-03-07T15:36:18.052708Z"
    },
    "papermill": {
     "duration": 0.03126,
     "end_time": "2025-03-07T15:36:18.056189",
     "exception": false,
     "start_time": "2025-03-07T15:36:18.024929",
     "status": "completed"
    },
    "tags": []
   },
   "outputs": [
    {
     "name": "stdout",
     "output_type": "stream",
     "text": [
      "Predicted Score : 185 || Actual Score : 185\n"
     ]
    },
    {
     "name": "stderr",
     "output_type": "stream",
     "text": [
      "/usr/local/lib/python3.10/dist-packages/sklearn/base.py:439: UserWarning: X does not have valid feature names, but RandomForestRegressor was fitted with feature names\n",
      "  warnings.warn(\n"
     ]
    }
   ],
   "source": [
    "# Live Test\n",
    "batting_team=\"Kings XI Punjab\"\n",
    "bowling_team=\"Rajasthan Royals\"\n",
    "score = predict_score(batting_team, bowling_team, overs=14.0, runs=118, wickets=1, runs_last_5=45, wickets_last_5=0)\n",
    "print(f'Predicted Score : {score} || Actual Score : 185')"
   ]
  },
  {
   "cell_type": "markdown",
   "id": "4c1bc292",
   "metadata": {
    "papermill": {
     "duration": 0.015783,
     "end_time": "2025-03-07T15:36:18.087882",
     "exception": false,
     "start_time": "2025-03-07T15:36:18.072099",
     "status": "completed"
    },
    "tags": []
   },
   "source": [
    "Live Test 2 (2020 Season)\n",
    "* Batting Team : Kolkata Knight Riders\n",
    "* Bowling Team : Chennai Super Kings\n",
    "* Final Score : 172/5"
   ]
  },
  {
   "cell_type": "code",
   "execution_count": 43,
   "id": "f0996538",
   "metadata": {
    "execution": {
     "iopub.execute_input": "2025-03-07T15:36:18.122251Z",
     "iopub.status.busy": "2025-03-07T15:36:18.121895Z",
     "iopub.status.idle": "2025-03-07T15:36:18.133513Z",
     "shell.execute_reply": "2025-03-07T15:36:18.132147Z"
    },
    "papermill": {
     "duration": 0.031179,
     "end_time": "2025-03-07T15:36:18.135552",
     "exception": false,
     "start_time": "2025-03-07T15:36:18.104373",
     "status": "completed"
    },
    "tags": []
   },
   "outputs": [
    {
     "name": "stdout",
     "output_type": "stream",
     "text": [
      "Predicted Score : 172 || Actual Score : 172\n"
     ]
    },
    {
     "name": "stderr",
     "output_type": "stream",
     "text": [
      "/usr/local/lib/python3.10/dist-packages/sklearn/base.py:439: UserWarning: X does not have valid feature names, but RandomForestRegressor was fitted with feature names\n",
      "  warnings.warn(\n"
     ]
    }
   ],
   "source": [
    "# Live Test\n",
    "batting_team=\"Kolkata Knight Riders\"\n",
    "bowling_team=\"Chennai Super Kings\"\n",
    "score = predict_score(batting_team, bowling_team, overs=18.0, runs=150, wickets=4, runs_last_5=57, wickets_last_5=1)\n",
    "print(f'Predicted Score : {score} || Actual Score : 172')"
   ]
  },
  {
   "cell_type": "markdown",
   "id": "056d070a",
   "metadata": {
    "papermill": {
     "duration": 0.015755,
     "end_time": "2025-03-07T15:36:18.167617",
     "exception": false,
     "start_time": "2025-03-07T15:36:18.151862",
     "status": "completed"
    },
    "tags": []
   },
   "source": [
    "Live Test 3 (2020 Season)\n",
    "* Batting Team : Delhi Daredevils\n",
    "* Bowling Team : Mumbai Indians\n",
    "* Final Score : 110/7"
   ]
  },
  {
   "cell_type": "code",
   "execution_count": 44,
   "id": "2ebfeca3",
   "metadata": {
    "execution": {
     "iopub.execute_input": "2025-03-07T15:36:18.201146Z",
     "iopub.status.busy": "2025-03-07T15:36:18.200719Z",
     "iopub.status.idle": "2025-03-07T15:36:18.213752Z",
     "shell.execute_reply": "2025-03-07T15:36:18.212542Z"
    },
    "papermill": {
     "duration": 0.032137,
     "end_time": "2025-03-07T15:36:18.215783",
     "exception": false,
     "start_time": "2025-03-07T15:36:18.183646",
     "status": "completed"
    },
    "tags": []
   },
   "outputs": [
    {
     "name": "stdout",
     "output_type": "stream",
     "text": [
      "Predicted Score : 109 || Actual Score : 110\n"
     ]
    },
    {
     "name": "stderr",
     "output_type": "stream",
     "text": [
      "/usr/local/lib/python3.10/dist-packages/sklearn/base.py:439: UserWarning: X does not have valid feature names, but RandomForestRegressor was fitted with feature names\n",
      "  warnings.warn(\n"
     ]
    }
   ],
   "source": [
    "batting_team='Delhi Daredevils'\n",
    "bowling_team='Mumbai Indians'\n",
    "score = predict_score(batting_team, bowling_team, overs=18.0, runs=96, wickets=8, runs_last_5=18, wickets_last_5=4)\n",
    "print(f'Predicted Score : {score} || Actual Score : 110')"
   ]
  },
  {
   "cell_type": "markdown",
   "id": "90f96f10",
   "metadata": {
    "papermill": {
     "duration": 0.016762,
     "end_time": "2025-03-07T15:36:18.248873",
     "exception": false,
     "start_time": "2025-03-07T15:36:18.232111",
     "status": "completed"
    },
    "tags": []
   },
   "source": [
    "Live Test 4 (2020 Season)\n",
    "* Batting Team : Kings XI Punjab\n",
    "* Bowling Team : Chennai Super Kings\n",
    "* Final Score : 153/9"
   ]
  },
  {
   "cell_type": "code",
   "execution_count": 45,
   "id": "9b88387c",
   "metadata": {
    "execution": {
     "iopub.execute_input": "2025-03-07T15:36:18.283365Z",
     "iopub.status.busy": "2025-03-07T15:36:18.282989Z",
     "iopub.status.idle": "2025-03-07T15:36:18.294944Z",
     "shell.execute_reply": "2025-03-07T15:36:18.293652Z"
    },
    "papermill": {
     "duration": 0.031603,
     "end_time": "2025-03-07T15:36:18.296923",
     "exception": false,
     "start_time": "2025-03-07T15:36:18.265320",
     "status": "completed"
    },
    "tags": []
   },
   "outputs": [
    {
     "name": "stdout",
     "output_type": "stream",
     "text": [
      "Predicted Score : 149 || Actual Score : 153\n"
     ]
    },
    {
     "name": "stderr",
     "output_type": "stream",
     "text": [
      "/usr/local/lib/python3.10/dist-packages/sklearn/base.py:439: UserWarning: X does not have valid feature names, but RandomForestRegressor was fitted with feature names\n",
      "  warnings.warn(\n"
     ]
    }
   ],
   "source": [
    "batting_team='Kings XI Punjab'\n",
    "bowling_team='Chennai Super Kings'\n",
    "score = predict_score(batting_team, bowling_team, overs=18.0, runs=129, wickets=6, runs_last_5=34, wickets_last_5=2)\n",
    "print(f'Predicted Score : {score} || Actual Score : 153')"
   ]
  }
 ],
 "metadata": {
  "kaggle": {
   "accelerator": "none",
   "dataSources": [
    {
     "datasetId": 6580532,
     "sourceId": 10628209,
     "sourceType": "datasetVersion"
    }
   ],
   "dockerImageVersionId": 30839,
   "isGpuEnabled": false,
   "isInternetEnabled": true,
   "language": "python",
   "sourceType": "notebook"
  },
  "kernelspec": {
   "display_name": "Python 3",
   "language": "python",
   "name": "python3"
  },
  "language_info": {
   "codemirror_mode": {
    "name": "ipython",
    "version": 3
   },
   "file_extension": ".py",
   "mimetype": "text/x-python",
   "name": "python",
   "nbconvert_exporter": "python",
   "pygments_lexer": "ipython3",
   "version": "3.10.12"
  },
  "papermill": {
   "default_parameters": {},
   "duration": 604.152512,
   "end_time": "2025-03-07T15:36:19.137899",
   "environment_variables": {},
   "exception": null,
   "input_path": "__notebook__.ipynb",
   "output_path": "__notebook__.ipynb",
   "parameters": {},
   "start_time": "2025-03-07T15:26:14.985387",
   "version": "2.6.0"
  }
 },
 "nbformat": 4,
 "nbformat_minor": 5
}
